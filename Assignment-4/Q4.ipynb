{
 "cells": [
  {
   "cell_type": "markdown",
   "id": "8866812a",
   "metadata": {},
   "source": [
    "# Import Statements"
   ]
  },
  {
   "cell_type": "code",
   "execution_count": 1,
   "id": "29a9e1f1",
   "metadata": {},
   "outputs": [],
   "source": [
    "import numpy as np\n",
    "import pandas as pd\n",
    "import pickle\n",
    "import gzip\n",
    "from matplotlib import pyplot as plt\n",
    "from tqdm import tqdm\n",
    "import random"
   ]
  },
  {
   "cell_type": "markdown",
   "id": "91fc5408",
   "metadata": {},
   "source": [
    "# Read Files"
   ]
  },
  {
   "cell_type": "code",
   "execution_count": 2,
   "id": "2937157b",
   "metadata": {},
   "outputs": [],
   "source": [
    "def images_file_read(file_name):\n",
    "    with gzip.open(file_name, 'r') as f:\n",
    "        # first 4 bytes is a magic number\n",
    "        magic_number = int.from_bytes(f.read(4), 'big')\n",
    "        # second 4 bytes is the number of images\n",
    "        image_count = int.from_bytes(f.read(4), 'big')\n",
    "        # third 4 bytes is the row count\n",
    "        row_count = int.from_bytes(f.read(4), 'big')\n",
    "        # fourth 4 bytes is the column count\n",
    "        column_count = int.from_bytes(f.read(4), 'big')\n",
    "        # rest is the image pixel data, each pixel is stored as an unsigned byte\n",
    "        # pixel values are 0 to 255\n",
    "        image_data = f.read()\n",
    "        images = np.frombuffer(image_data, dtype=np.uint8).reshape((image_count, row_count, column_count))\n",
    "        return images"
   ]
  },
  {
   "cell_type": "code",
   "execution_count": 3,
   "id": "7eeee9f5",
   "metadata": {},
   "outputs": [],
   "source": [
    "def labels_file_read(file_name):\n",
    "    with gzip.open(file_name, 'r') as f:\n",
    "        # first 4 bytes is a magic number\n",
    "        magic_number = int.from_bytes(f.read(4), 'big')\n",
    "        # second 4 bytes is the number of labels\n",
    "        label_count = int.from_bytes(f.read(4), 'big')\n",
    "        # rest is the label data, each label is stored as unsigned byte\n",
    "        # label values are 0 to 9\n",
    "        label_data = f.read()\n",
    "        labels = np.frombuffer(label_data, dtype=np.uint8)\n",
    "        return labels"
   ]
  },
  {
   "cell_type": "code",
   "execution_count": 4,
   "id": "720e81c7",
   "metadata": {},
   "outputs": [
    {
     "name": "stdout",
     "output_type": "stream",
     "text": [
      "(60000, 28, 28)\n"
     ]
    }
   ],
   "source": [
    "train_x = images_file_read('Dataset/mnist/train-images-idx3-ubyte.gz')\n",
    "print(train_x.shape)"
   ]
  },
  {
   "cell_type": "code",
   "execution_count": 5,
   "id": "f49b3d8b",
   "metadata": {},
   "outputs": [
    {
     "name": "stdout",
     "output_type": "stream",
     "text": [
      "(60000, 784)\n"
     ]
    }
   ],
   "source": [
    "train_x = np.reshape(train_x, (60000,784))\n",
    "print(train_x.shape)"
   ]
  },
  {
   "cell_type": "code",
   "execution_count": 6,
   "id": "258129da",
   "metadata": {},
   "outputs": [
    {
     "name": "stdout",
     "output_type": "stream",
     "text": [
      "(60000,)\n"
     ]
    }
   ],
   "source": [
    "train_y = labels_file_read('Dataset/mnist/train-labels-idx1-ubyte.gz')\n",
    "print(train_y.shape)"
   ]
  },
  {
   "cell_type": "code",
   "execution_count": 7,
   "id": "777163fc",
   "metadata": {},
   "outputs": [
    {
     "name": "stdout",
     "output_type": "stream",
     "text": [
      "(10000, 28, 28)\n"
     ]
    }
   ],
   "source": [
    "test_x = images_file_read('Dataset/mnist/t10k-images-idx3-ubyte.gz')\n",
    "print(test_x.shape)"
   ]
  },
  {
   "cell_type": "code",
   "execution_count": 8,
   "id": "1eddc747",
   "metadata": {},
   "outputs": [
    {
     "name": "stdout",
     "output_type": "stream",
     "text": [
      "(10000, 784)\n"
     ]
    }
   ],
   "source": [
    "test_x = np.reshape(test_x, (10000,784))\n",
    "print(test_x.shape)"
   ]
  },
  {
   "cell_type": "code",
   "execution_count": 9,
   "id": "cf297cc5",
   "metadata": {},
   "outputs": [
    {
     "name": "stdout",
     "output_type": "stream",
     "text": [
      "(10000,)\n"
     ]
    }
   ],
   "source": [
    "test_y = labels_file_read('Dataset/mnist/t10k-labels-idx1-ubyte.gz')\n",
    "print(test_y.shape)"
   ]
  },
  {
   "cell_type": "markdown",
   "id": "d8727dd8",
   "metadata": {},
   "source": [
    "# Preprocessing"
   ]
  },
  {
   "cell_type": "code",
   "execution_count": 10,
   "id": "eee012b1",
   "metadata": {},
   "outputs": [
    {
     "name": "stdout",
     "output_type": "stream",
     "text": [
      "(60000, 784) (60000,)\n",
      "(10000, 784) (10000,)\n"
     ]
    }
   ],
   "source": [
    "# Preprocessing\n",
    "# train_x = (train_x.astype('float32')/255)\n",
    "# test_x = (test_x.astype('float32')/255)\n",
    "\n",
    "print(train_x.shape, train_y.shape)\n",
    "print(test_x.shape, test_y.shape)"
   ]
  },
  {
   "cell_type": "markdown",
   "id": "8de121c4",
   "metadata": {},
   "source": [
    "# Bagging Model"
   ]
  },
  {
   "cell_type": "code",
   "execution_count": 11,
   "id": "cacdd6c8",
   "metadata": {},
   "outputs": [],
   "source": [
    "from sklearn.tree import DecisionTreeClassifier"
   ]
  },
  {
   "cell_type": "code",
   "execution_count": 12,
   "id": "349ee6d1",
   "metadata": {},
   "outputs": [],
   "source": [
    "def bagging(DTC, train_x, train_y, test_x, test_y, num_of_bags):\n",
    "    bag_of_models = []\n",
    "    for i in range(num_of_bags):\n",
    "        indexes = np.random.randint(low=0, high=train_x.shape[0], size=train_x.shape[0])\n",
    "        bag_x = [train_x[indexes[i]] for i in range(train_x.shape[0])]\n",
    "        bag_y = [train_y[indexes[i]] for i in range(train_x.shape[0])]\n",
    "        DTC.fit(bag_x, bag_y)\n",
    "        bag_of_models.append(DTC)\n",
    "    return bag_of_models"
   ]
  },
  {
   "cell_type": "code",
   "execution_count": 13,
   "id": "3f675049",
   "metadata": {},
   "outputs": [],
   "source": [
    "# DTC = DecisionTreeClassifier(criterion='entropy', splitter='best', max_depth=None, random_state=0)\n",
    "# bag_of_models = bagging(DTC, train_x, train_y, test_x, test_y, 3)"
   ]
  },
  {
   "cell_type": "markdown",
   "id": "723d47d4",
   "metadata": {},
   "source": [
    "# Saving Model"
   ]
  },
  {
   "cell_type": "code",
   "execution_count": 14,
   "id": "c463f5ff",
   "metadata": {},
   "outputs": [],
   "source": [
    "# pi_file = open('Q4_pkl_file.pkl', 'wb')\n",
    "# pickle.dump(bag_of_models, pi_file)\n",
    "# pi_file.close()"
   ]
  },
  {
   "cell_type": "markdown",
   "id": "960449f3",
   "metadata": {},
   "source": [
    "# Loading Model"
   ]
  },
  {
   "cell_type": "code",
   "execution_count": 15,
   "id": "eabbd8f0",
   "metadata": {},
   "outputs": [],
   "source": [
    "pi_file = open('Q4_pkl_file.pkl', 'rb')\n",
    "bag_of_models = pickle.load(pi_file)\n",
    "pi_file.close()"
   ]
  },
  {
   "cell_type": "markdown",
   "id": "8e0a8234",
   "metadata": {},
   "source": [
    "# Testing"
   ]
  },
  {
   "cell_type": "code",
   "execution_count": 16,
   "id": "9e944ab4",
   "metadata": {},
   "outputs": [],
   "source": [
    "bag_of_predictions = []\n",
    "for i in range(3):\n",
    "    bag_of_predictions.append(bag_of_models[i].predict(test_x))"
   ]
  },
  {
   "cell_type": "code",
   "execution_count": 17,
   "id": "b09a4461",
   "metadata": {},
   "outputs": [],
   "source": [
    "final_prediction = []\n",
    "for i in range(len(test_y)):\n",
    "    if bag_of_predictions[1][i] == bag_of_predictions[2][i]:\n",
    "        final_prediction.append(bag_of_predictions[1][i])\n",
    "    else:\n",
    "        if bag_of_predictions[0][i] == bag_of_predictions[1][i] or bag_of_predictions[0][i] == bag_of_predictions[2][i]:\n",
    "            final_prediction.append(bag_of_predictions[0][i])\n",
    "        else:\n",
    "            choice = np.random.randint(0,3)\n",
    "            final_prediction.append(bag_of_predictions[choice][i])"
   ]
  },
  {
   "cell_type": "code",
   "execution_count": 18,
   "id": "7962c89c",
   "metadata": {},
   "outputs": [],
   "source": [
    "my_confusion_matrix = np.zeros((10,10), dtype=np.int64)"
   ]
  },
  {
   "cell_type": "code",
   "execution_count": 19,
   "id": "766c1acb",
   "metadata": {},
   "outputs": [],
   "source": [
    "for i in range(test_y.shape[0]):\n",
    "    my_confusion_matrix[test_y[i]][final_prediction[i]] += 1"
   ]
  },
  {
   "cell_type": "code",
   "execution_count": 20,
   "id": "94b243f1",
   "metadata": {},
   "outputs": [
    {
     "name": "stdout",
     "output_type": "stream",
     "text": [
      "[[ 912    0    9    4    4   12   16    4   11    8]\n",
      " [   0 1109    3    3    1    4    3    2    8    2]\n",
      " [  10   13  883   21   13    4   27   30   22    9]\n",
      " [   7    7   29  840    6   55    4   15   23   24]\n",
      " [   6    7   10    8  842    5   17   12   20   55]\n",
      " [  17    5    5   31   11  744   25    2   29   23]\n",
      " [  13    6   22    5   26   26  825    4   26    5]\n",
      " [   4   12   29   13    4    2    1  932    9   22]\n",
      " [   8    8   32   42   24   18   17    8  785   32]\n",
      " [   5   10    9   25   43   17    9   23   26  842]]\n"
     ]
    }
   ],
   "source": [
    "print(my_confusion_matrix)"
   ]
  },
  {
   "cell_type": "code",
   "execution_count": 21,
   "id": "732e84a2",
   "metadata": {
    "scrolled": true
   },
   "outputs": [
    {
     "name": "stdout",
     "output_type": "stream",
     "text": [
      "Accuracy of class 0: 93.06122448979592%\n",
      "Accuracy of class 1: 97.70925110132158%\n",
      "Accuracy of class 2: 85.56201550387597%\n",
      "Accuracy of class 3: 83.16831683168317%\n",
      "Accuracy of class 4: 85.74338085539715%\n",
      "Accuracy of class 5: 83.40807174887892%\n",
      "Accuracy of class 6: 86.1169102296451%\n",
      "Accuracy of class 7: 90.6614785992218%\n",
      "Accuracy of class 8: 80.59548254620124%\n",
      "Accuracy of class 9: 83.44895936570862%\n",
      "\n",
      "Overall accuracy: 87.14%\n"
     ]
    }
   ],
   "source": [
    "class_wise_accuracies = np.zeros(10)\n",
    "for i in range(10):\n",
    "    class_wise_accuracies[i] = my_confusion_matrix[i][i]/np.sum(my_confusion_matrix[i])\n",
    "    print('Accuracy of class {}: {}%'.format(i, class_wise_accuracies[i]*100))\n",
    "\n",
    "print('\\nOverall accuracy: {}%'.format(100*np.trace(my_confusion_matrix)/np.sum(my_confusion_matrix, axis=None)))"
   ]
  }
 ],
 "metadata": {
  "kernelspec": {
   "display_name": "Python 3 (ipykernel)",
   "language": "python",
   "name": "python3"
  },
  "language_info": {
   "codemirror_mode": {
    "name": "ipython",
    "version": 3
   },
   "file_extension": ".py",
   "mimetype": "text/x-python",
   "name": "python",
   "nbconvert_exporter": "python",
   "pygments_lexer": "ipython3",
   "version": "3.7.4"
  }
 },
 "nbformat": 4,
 "nbformat_minor": 5
}
