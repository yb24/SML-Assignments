{
 "cells": [
  {
   "cell_type": "markdown",
   "id": "b5d38834",
   "metadata": {},
   "source": [
    "# Import Statements"
   ]
  },
  {
   "cell_type": "code",
   "execution_count": 1,
   "id": "31c14a35",
   "metadata": {},
   "outputs": [],
   "source": [
    "import numpy as np\n",
    "import pandas as pd\n",
    "import pickle\n",
    "import matplotlib.pyplot as plt\n",
    "import gzip\n",
    "from tqdm import tqdm"
   ]
  },
  {
   "cell_type": "markdown",
   "id": "36fb42c3",
   "metadata": {},
   "source": [
    "# Read Files"
   ]
  },
  {
   "cell_type": "code",
   "execution_count": 2,
   "id": "a368e288",
   "metadata": {},
   "outputs": [],
   "source": [
    "def images_file_read(file_name):\n",
    "    with gzip.open(file_name, 'r') as f:\n",
    "        # first 4 bytes is a magic number\n",
    "        magic_number = int.from_bytes(f.read(4), 'big')\n",
    "        # second 4 bytes is the number of images\n",
    "        image_count = int.from_bytes(f.read(4), 'big')\n",
    "        # third 4 bytes is the row count\n",
    "        row_count = int.from_bytes(f.read(4), 'big')\n",
    "        # fourth 4 bytes is the column count\n",
    "        column_count = int.from_bytes(f.read(4), 'big')\n",
    "        # rest is the image pixel data, each pixel is stored as an unsigned byte\n",
    "        # pixel values are 0 to 255\n",
    "        image_data = f.read()\n",
    "        images = np.frombuffer(image_data, dtype=np.uint8).reshape((image_count, row_count, column_count))\n",
    "        return images"
   ]
  },
  {
   "cell_type": "code",
   "execution_count": 3,
   "id": "c17ebd22",
   "metadata": {},
   "outputs": [],
   "source": [
    "def labels_file_read(file_name):\n",
    "    with gzip.open(file_name, 'r') as f:\n",
    "        # first 4 bytes is a magic number\n",
    "        magic_number = int.from_bytes(f.read(4), 'big')\n",
    "        # second 4 bytes is the number of labels\n",
    "        label_count = int.from_bytes(f.read(4), 'big')\n",
    "        # rest is the label data, each label is stored as unsigned byte\n",
    "        # label values are 0 to 9\n",
    "        label_data = f.read()\n",
    "        labels = np.frombuffer(label_data, dtype=np.uint8)\n",
    "        return labels"
   ]
  },
  {
   "cell_type": "code",
   "execution_count": 4,
   "id": "195ab9d7",
   "metadata": {},
   "outputs": [
    {
     "name": "stdout",
     "output_type": "stream",
     "text": [
      "(60000, 28, 28)\n"
     ]
    }
   ],
   "source": [
    "train_x = images_file_read('Dataset/mnist/train-images-idx3-ubyte.gz')\n",
    "print(train_x.shape)"
   ]
  },
  {
   "cell_type": "code",
   "execution_count": 5,
   "id": "1c4ed9c1",
   "metadata": {},
   "outputs": [
    {
     "name": "stdout",
     "output_type": "stream",
     "text": [
      "(60000, 784)\n"
     ]
    }
   ],
   "source": [
    "train_x = np.reshape(train_x, (60000,784))\n",
    "print(train_x.shape)"
   ]
  },
  {
   "cell_type": "code",
   "execution_count": 6,
   "id": "299fea4b",
   "metadata": {},
   "outputs": [
    {
     "name": "stdout",
     "output_type": "stream",
     "text": [
      "(60000,)\n"
     ]
    }
   ],
   "source": [
    "train_y = labels_file_read('Dataset/mnist/train-labels-idx1-ubyte.gz')\n",
    "print(train_y.shape)"
   ]
  },
  {
   "cell_type": "code",
   "execution_count": 7,
   "id": "bb1e5366",
   "metadata": {},
   "outputs": [
    {
     "name": "stdout",
     "output_type": "stream",
     "text": [
      "(10000, 28, 28)\n"
     ]
    }
   ],
   "source": [
    "test_x = images_file_read('Dataset/mnist/t10k-images-idx3-ubyte.gz')\n",
    "print(test_x.shape)"
   ]
  },
  {
   "cell_type": "code",
   "execution_count": 8,
   "id": "b8dc0842",
   "metadata": {},
   "outputs": [
    {
     "name": "stdout",
     "output_type": "stream",
     "text": [
      "(10000, 784)\n"
     ]
    }
   ],
   "source": [
    "test_x = np.reshape(test_x, (10000,784))\n",
    "print(test_x.shape)"
   ]
  },
  {
   "cell_type": "code",
   "execution_count": 9,
   "id": "c5affbd2",
   "metadata": {},
   "outputs": [
    {
     "name": "stdout",
     "output_type": "stream",
     "text": [
      "(10000,)\n"
     ]
    }
   ],
   "source": [
    "test_y = labels_file_read('Dataset/mnist/t10k-labels-idx1-ubyte.gz')\n",
    "print(test_y.shape)"
   ]
  },
  {
   "cell_type": "markdown",
   "id": "9bcdba18",
   "metadata": {},
   "source": [
    "# Gradient Boosting Classifier"
   ]
  },
  {
   "cell_type": "code",
   "execution_count": 10,
   "id": "4a478e43",
   "metadata": {},
   "outputs": [],
   "source": [
    "from sklearn.tree import DecisionTreeRegressor\n",
    "from sklearn.metrics import r2_score"
   ]
  },
  {
   "cell_type": "code",
   "execution_count": 11,
   "id": "8f6f11d9",
   "metadata": {},
   "outputs": [],
   "source": [
    "def gradient_boosting(train_x, train_y, test_x, test_y, num_of_iterations, learning_rate, max_depth_of_decision_tree_regresssor):\n",
    "    models = []\n",
    "    train_vs_itr_scores = []\n",
    "    train_vs_itr_accuracy = []\n",
    "    residuals = []\n",
    "    combined_predictions = []\n",
    "    \n",
    "    # Initial Model\n",
    "    Fx = DecisionTreeRegressor(max_depth=max_depth_of_decision_tree_regresssor, random_state=0)\n",
    "    Fx.fit(train_x, train_y)\n",
    "    Fx_predictions = Fx.predict(train_x)\n",
    "    train_vs_itr_scores.append(r2_score(train_y, Fx_predictions))\n",
    "    base_predictions_rounded_off = np.rint(Fx_predictions).astype('int')\n",
    "    base_correct_pred = 0\n",
    "    for x in range(len(base_predictions_rounded_off)):\n",
    "        if train_y[x] == base_predictions_rounded_off[x]:\n",
    "            base_correct_pred += 1\n",
    "    train_vs_itr_accuracy.append(base_correct_pred/len(base_predictions_rounded_off))\n",
    "    models.append(Fx)\n",
    "    \n",
    "    # Initializing for Iterations\n",
    "    residuals.append(train_y)\n",
    "    combined_predictions.append(Fx_predictions)\n",
    "    \n",
    "    # Additional Models\n",
    "    for itr in range(1, num_of_iterations+1):\n",
    "        current_residual = residuals[itr-1] - models[itr-1].predict(train_x)\n",
    "        residuals.append(current_residual)\n",
    "        hx = DecisionTreeRegressor(max_depth=max_depth_of_decision_tree_regresssor, random_state=0)\n",
    "        hx.fit(train_x, current_residual)\n",
    "        hx_predictions = hx.predict(train_x)\n",
    "        combined_predictions.append(combined_predictions[itr-1] + hx_predictions)\n",
    "        train_vs_itr_scores.append(r2_score(train_y, combined_predictions[itr]))\n",
    "        current_predictions_rounded_off = np.rint(combined_predictions[itr]).astype('int')\n",
    "        correct_pred = 0\n",
    "        for x in range(len(current_predictions_rounded_off)):\n",
    "            if train_y[x] == current_predictions_rounded_off[x]:\n",
    "                correct_pred += 1\n",
    "        train_vs_itr_accuracy.append(correct_pred/len(current_predictions_rounded_off))\n",
    "        models.append(hx)\n",
    "    \n",
    "    return models, train_vs_itr_scores, train_vs_itr_accuracy"
   ]
  },
  {
   "cell_type": "code",
   "execution_count": 12,
   "id": "34038a41",
   "metadata": {},
   "outputs": [],
   "source": [
    "def test_score_accuracy(test_x, test_y, models, num_of_iterations, learning_rate):\n",
    "    test_pred = []\n",
    "    test_pred.append(models[0].predict(test_x))\n",
    "    \n",
    "    for i in range(1, num_of_iterations+1):\n",
    "        pred = test_pred[i-1] + learning_rate*models[i].predict(test_x)\n",
    "        test_pred.append(pred)\n",
    "    final_test_pred = test_pred[num_of_iterations]\n",
    "    final_test_pred_rounded_off = np.rint(final_test_pred).astype('int')\n",
    "    \n",
    "    final_test_score = r2_score(test_y, final_test_pred)\n",
    "    correct_pred = 0\n",
    "    for x in range(len(final_test_pred_rounded_off)):\n",
    "        if test_y[x] == final_test_pred_rounded_off[x]:\n",
    "            correct_pred += 1\n",
    "    final_test_accuracy = correct_pred/len(final_test_pred_rounded_off)\n",
    "    \n",
    "    return final_test_score, final_test_accuracy"
   ]
  },
  {
   "cell_type": "code",
   "execution_count": 13,
   "id": "7db23feb",
   "metadata": {},
   "outputs": [],
   "source": [
    "# num_of_iterations = [5, 10, 15]\n",
    "# learning_rates = [0.1, 0.5, 1]\n",
    "# max_depths = [1, 2, 5]\n",
    "# best_case = (0,0,0)\n",
    "# best_train_score = 0.0\n",
    "\n",
    "# for i in range(len(num_of_iterations)):\n",
    "#     for j in range(len(learning_rates)):\n",
    "#         for k in range(len(max_depths)):\n",
    "#             models, train_vs_itr_scores, train_vs_itr_accuracy = gradient_boosting(train_x, train_y, test_x, test_y, num_of_iterations[i], learning_rates[j], max_depths[k])\n",
    "#             print('Case ({}, {}, {}): Training Score: {} Training Accuracy: {}%'.format(num_of_iterations[i], learning_rates[j], max_depths[k], train_vs_itr_scores[num_of_iterations[i]], 100*train_vs_itr_accuracy[num_of_iterations[i]]))\n",
    "#             if(train_vs_itr_scores[num_of_iterations[i]] > best_train_score):\n",
    "#                 best_train_score = train_vs_itr_scores[num_of_iterations[i]]\n",
    "#                 best_train_accuracy = train_vs_itr_accuracy[num_of_iterations[i]]\n",
    "#                 best_case = (num_of_iterations[i], learning_rates[j], max_depths[k])\n",
    "\n",
    "# print('Best Case - Number of Iterations: {}, Learning Rate: {}, Max Depth of Decision Tree Regressor: {}'.format(best_case[0], best_case[1], best_case[2]))"
   ]
  },
  {
   "cell_type": "markdown",
   "id": "c5042e9c",
   "metadata": {},
   "source": [
    "# Save Best Model"
   ]
  },
  {
   "cell_type": "code",
   "execution_count": 14,
   "id": "084bb2cb",
   "metadata": {},
   "outputs": [],
   "source": [
    "# models, train_vs_itr_scores, train_vs_itr_accuracy = gradient_boosting(train_x, train_y, test_x, test_y, best_case[0], best_case[1], best_case[2])\n",
    "\n",
    "# data = {}\n",
    "# data['models'] = models\n",
    "# data['train_vs_itr_scores'] = train_vs_itr_scores\n",
    "# data['train_vs_itr_accuracy'] = train_vs_itr_accuracy\n",
    "# data['best_case'] = best_case"
   ]
  },
  {
   "cell_type": "code",
   "execution_count": 15,
   "id": "56eaf47d",
   "metadata": {},
   "outputs": [],
   "source": [
    "# pi_file = open('Q1_pkl_file.pkl', 'wb')\n",
    "# pickle.dump(data, pi_file)\n",
    "# pi_file.close()"
   ]
  },
  {
   "cell_type": "markdown",
   "id": "b1c87648",
   "metadata": {},
   "source": [
    "# Load Best Model"
   ]
  },
  {
   "cell_type": "code",
   "execution_count": 16,
   "id": "0c1ad173",
   "metadata": {},
   "outputs": [],
   "source": [
    "pi_file = open('Q1_pkl_file.pkl', 'rb')\n",
    "best_data = pickle.load(pi_file)\n",
    "pi_file.close()"
   ]
  },
  {
   "cell_type": "markdown",
   "id": "d560a44c",
   "metadata": {},
   "source": [
    "# Train vs Iterations Plot for Best Model"
   ]
  },
  {
   "cell_type": "code",
   "execution_count": 17,
   "id": "d6e83c69",
   "metadata": {},
   "outputs": [
    {
     "data": {
      "image/png": "[encoded data removed]",
      "text/plain": [
       "<Figure size 432x288 with 1 Axes>"
      ]
     },
     "metadata": {
      "needs_background": "light"
     },
     "output_type": "display_data"
    }
   ],
   "source": [
    "plt.xlabel('Iterations')\n",
    "plt.ylabel('Train Scores')\n",
    "plt.plot(best_data['train_vs_itr_scores'])\n",
    "plt.show()"
   ]
  },
  {
   "cell_type": "code",
   "execution_count": 18,
   "id": "c13c3c93",
   "metadata": {},
   "outputs": [
    {
     "data": {
      "image/png": "[encoded data removed]",
      "text/plain": [
       "<Figure size 432x288 with 1 Axes>"
      ]
     },
     "metadata": {
      "needs_background": "light"
     },
     "output_type": "display_data"
    }
   ],
   "source": [
    "plt.xlabel('Iterations')\n",
    "plt.ylabel('Train Accuracy')\n",
    "plt.plot(best_data['train_vs_itr_accuracy'])\n",
    "plt.show()"
   ]
  },
  {
   "cell_type": "markdown",
   "id": "40c52dfe",
   "metadata": {},
   "source": [
    "# Test Score & Accuracy Of Best Model"
   ]
  },
  {
   "cell_type": "code",
   "execution_count": 19,
   "id": "d6d04008",
   "metadata": {},
   "outputs": [
    {
     "name": "stdout",
     "output_type": "stream",
     "text": [
      "Test Score: 0.6387846841253644\n",
      "Test Accuracy: 32.39%\n"
     ]
    }
   ],
   "source": [
    "final_test_score, final_test_accuracy = test_score_accuracy(test_x, test_y, best_data['models'], best_data['best_case'][0], best_data['best_case'][1])\n",
    "print('Test Score: {}'.format(final_test_score))\n",
    "print('Test Accuracy: {}%'.format(final_test_accuracy*100))"
   ]
  }
 ],
 "metadata": {
  "kernelspec": {
   "display_name": "Python 3 (ipykernel)",
   "language": "python",
   "name": "python3"
  },
  "language_info": {
   "codemirror_mode": {
    "name": "ipython",
    "version": 3
   },
   "file_extension": ".py",
   "mimetype": "text/x-python",
   "name": "python",
   "nbconvert_exporter": "python",
   "pygments_lexer": "ipython3",
   "version": "3.7.4"
  }
 },
 "nbformat": 4,
 "nbformat_minor": 5
}
