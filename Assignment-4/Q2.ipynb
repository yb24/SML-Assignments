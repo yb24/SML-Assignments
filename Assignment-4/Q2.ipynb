{
 "cells": [
  {
   "cell_type": "markdown",
   "id": "218144a0",
   "metadata": {},
   "source": [
    "# Import Statements"
   ]
  },
  {
   "cell_type": "code",
   "execution_count": 1,
   "id": "47b51e95",
   "metadata": {},
   "outputs": [],
   "source": [
    "import numpy as np\n",
    "import pandas as pd\n",
    "import pickle\n",
    "import gzip\n",
    "from matplotlib import pyplot as plt\n",
    "from tqdm import tqdm"
   ]
  },
  {
   "cell_type": "markdown",
   "id": "e24c7e04",
   "metadata": {},
   "source": [
    "# Read Files"
   ]
  },
  {
   "cell_type": "code",
   "execution_count": 2,
   "id": "ea86771e",
   "metadata": {},
   "outputs": [],
   "source": [
    "df_train = pd.read_csv('Dataset/fmnist/fashion-mnist_train.csv')\n",
    "df_test = pd.read_csv('Dataset/fmnist/fashion-mnist_test.csv')\n",
    "classes = {0:\"T-shirt/top\",\n",
    "1 :\"Trouser\",\n",
    "2 :\"Pullover\",\n",
    "3 :\"Dress\",\n",
    "4 :\"Coat\",\n",
    "5 :\"Sandal\",\n",
    "6 :\"Shirt\",\n",
    "7 :\"Sneaker\",\n",
    "8 :\"Bag\",\n",
    "9 :\"Ankle boot\"}"
   ]
  },
  {
   "cell_type": "code",
   "execution_count": 3,
   "id": "d0e68164",
   "metadata": {},
   "outputs": [
    {
     "name": "stdout",
     "output_type": "stream",
     "text": [
      "10\n"
     ]
    }
   ],
   "source": [
    "print(len(classes))"
   ]
  },
  {
   "cell_type": "code",
   "execution_count": 4,
   "id": "19b7d8bd",
   "metadata": {},
   "outputs": [],
   "source": [
    "train_x = np.array(df_train.iloc[:,1:]).reshape(df_train.shape[0],784)\n",
    "train_y = np.array(df_train.iloc[:,0])\n",
    "test_x = np.array(df_test.iloc[:,1:]).reshape(df_test.shape[0],784)\n",
    "test_y = np.array(df_test.iloc[:,0])"
   ]
  },
  {
   "cell_type": "code",
   "execution_count": 5,
   "id": "19f5855b",
   "metadata": {},
   "outputs": [
    {
     "name": "stdout",
     "output_type": "stream",
     "text": [
      "(60000, 784) (60000,)\n",
      "(10000, 784) (10000,)\n"
     ]
    }
   ],
   "source": [
    "print(train_x.shape, train_y.shape)\n",
    "print(test_x.shape, test_y.shape)"
   ]
  },
  {
   "cell_type": "markdown",
   "id": "384ab87c",
   "metadata": {},
   "source": [
    "# Feed Forward Neural Network"
   ]
  },
  {
   "cell_type": "code",
   "execution_count": 6,
   "id": "52a3c66d",
   "metadata": {},
   "outputs": [],
   "source": [
    "from tensorflow.keras.models import Sequential\n",
    "from tensorflow.keras.layers import Dense , Activation\n",
    "from tensorflow.keras.utils import to_categorical\n",
    "from tensorflow.keras.optimizers import SGD\n",
    "from tensorflow.keras.initializers import RandomNormal\n",
    "from keras.models import load_model"
   ]
  },
  {
   "cell_type": "code",
   "execution_count": 7,
   "id": "8a273bab",
   "metadata": {},
   "outputs": [
    {
     "name": "stdout",
     "output_type": "stream",
     "text": [
      "(60000, 784) (60000, 10)\n",
      "(10000, 784) (10000, 10)\n"
     ]
    }
   ],
   "source": [
    "# Preprocessing\n",
    "train_x = (train_x.astype('float32')/255) - 0.5\n",
    "test_x = (test_x.astype('float32')/255) - 0.5\n",
    "\n",
    "train_y = to_categorical(train_y)\n",
    "numerical_test_y = test_y\n",
    "test_y = to_categorical(test_y)\n",
    "\n",
    "print(train_x.shape, train_y.shape)\n",
    "print(test_x.shape, test_y.shape)"
   ]
  },
  {
   "cell_type": "code",
   "execution_count": 8,
   "id": "4b91626a",
   "metadata": {},
   "outputs": [],
   "source": [
    "# # Building the model\n",
    "# model = Sequential([\n",
    "#     Dense(128, activation='relu', input_shape=(784,), kernel_initializer=RandomNormal(mean=0.0, stddev=0.05, seed=0)),\n",
    "#     Dense(64, activation='relu', kernel_initializer=RandomNormal(mean=0.0, stddev=0.05, seed=0)),\n",
    "#     Dense(10, activation='softmax', kernel_initializer=RandomNormal(mean=0.0, stddev=0.05, seed=0)),\n",
    "# ])"
   ]
  },
  {
   "cell_type": "code",
   "execution_count": 9,
   "id": "1c22d054",
   "metadata": {},
   "outputs": [],
   "source": [
    "# # Compiling the model\n",
    "# model.compile(\n",
    "#   optimizer=SGD(learning_rate=0.1),\n",
    "#   loss='categorical_crossentropy',\n",
    "#   metrics=['accuracy'],\n",
    "# )"
   ]
  },
  {
   "cell_type": "code",
   "execution_count": 10,
   "id": "a4f0a2ce",
   "metadata": {},
   "outputs": [],
   "source": [
    "# model.summary()"
   ]
  },
  {
   "cell_type": "code",
   "execution_count": 11,
   "id": "68fe0af2",
   "metadata": {},
   "outputs": [],
   "source": [
    "# # Train the model\n",
    "# history = model.fit(\n",
    "#   train_x,\n",
    "#   train_y,\n",
    "#   epochs=20,\n",
    "#   batch_size=32,\n",
    "# )"
   ]
  },
  {
   "cell_type": "code",
   "execution_count": 12,
   "id": "b2e0f273",
   "metadata": {},
   "outputs": [],
   "source": [
    "# plt.plot(history.history['loss'])\n",
    "# plt.title('Training Loss Graph')\n",
    "# plt.ylabel('loss')\n",
    "# plt.xlabel('epoch')\n",
    "# plt.legend(['train'], loc='upper right')\n",
    "# plt.show()"
   ]
  },
  {
   "cell_type": "code",
   "execution_count": 13,
   "id": "2e21931c",
   "metadata": {},
   "outputs": [],
   "source": [
    "# model.save('Q2_model.h5')"
   ]
  },
  {
   "cell_type": "markdown",
   "id": "8dff2488",
   "metadata": {},
   "source": [
    "# Load Model"
   ]
  },
  {
   "cell_type": "code",
   "execution_count": 14,
   "id": "2ab6f569",
   "metadata": {},
   "outputs": [],
   "source": [
    "model = load_model('Q2_model.h5')"
   ]
  },
  {
   "cell_type": "markdown",
   "id": "5b8be0d8",
   "metadata": {},
   "source": [
    "# Train Loss Graph"
   ]
  },
  {
   "cell_type": "code",
   "execution_count": 15,
   "id": "b9345840",
   "metadata": {},
   "outputs": [],
   "source": [
    "# Displayed in report"
   ]
  },
  {
   "cell_type": "markdown",
   "id": "8e4d3227",
   "metadata": {},
   "source": [
    "# Testing"
   ]
  },
  {
   "cell_type": "code",
   "execution_count": 16,
   "id": "c98d662c",
   "metadata": {},
   "outputs": [
    {
     "name": "stdout",
     "output_type": "stream",
     "text": [
      "313/313 [==============================] - 1s 1ms/step - loss: 0.3024 - accuracy: 0.8961\n"
     ]
    },
    {
     "data": {
      "text/plain": [
       "[0.30240413546562195, 0.8960999846458435]"
      ]
     },
     "execution_count": 16,
     "metadata": {},
     "output_type": "execute_result"
    }
   ],
   "source": [
    "# Overall Accuracy\n",
    "model.evaluate(\n",
    "  test_x,\n",
    "  test_y\n",
    ")"
   ]
  },
  {
   "cell_type": "code",
   "execution_count": 17,
   "id": "31a06d41",
   "metadata": {},
   "outputs": [],
   "source": [
    "# Class-wise accuracy\n",
    "predictions_ohe = model.predict(test_x)\n",
    "predictions = np.argmax(predictions_ohe, axis=1)"
   ]
  },
  {
   "cell_type": "code",
   "execution_count": 18,
   "id": "8a695f46",
   "metadata": {},
   "outputs": [],
   "source": [
    "my_confusion_matrix = np.zeros((len(classes),len(classes)), dtype=np.int64)"
   ]
  },
  {
   "cell_type": "code",
   "execution_count": 19,
   "id": "870e34ad",
   "metadata": {},
   "outputs": [],
   "source": [
    "for i in range(test_x.shape[0]):\n",
    "    my_confusion_matrix[numerical_test_y[i]][predictions[i]] += 1"
   ]
  },
  {
   "cell_type": "code",
   "execution_count": 20,
   "id": "b7e185aa",
   "metadata": {},
   "outputs": [
    {
     "name": "stdout",
     "output_type": "stream",
     "text": [
      "[[860   2  16  15   2   1  95   0   9   0]\n",
      " [  1 988   1   9   0   0   1   0   0   0]\n",
      " [ 15   0 815  11  81   1  74   0   3   0]\n",
      " [ 22  19  11 875  53   0  19   0   1   0]\n",
      " [  0   2  62  13 872   0  49   0   2   0]\n",
      " [  1   0   0   2   0 954   1  27   2  13]\n",
      " [127   1  58  19  62   0 723   0  10   0]\n",
      " [  0   0   0   0   0  14   0 927   0  59]\n",
      " [  2   1   4   1   2   1  13   1 975   0]\n",
      " [  0   0   1   0   0   6   0  21   0 972]]\n"
     ]
    }
   ],
   "source": [
    "print(my_confusion_matrix)"
   ]
  },
  {
   "cell_type": "code",
   "execution_count": 21,
   "id": "9726ce4c",
   "metadata": {},
   "outputs": [
    {
     "name": "stdout",
     "output_type": "stream",
     "text": [
      "Accuracy of class 0: 86.0%\n",
      "Accuracy of class 1: 98.8%\n",
      "Accuracy of class 2: 81.5%\n",
      "Accuracy of class 3: 87.5%\n",
      "Accuracy of class 4: 87.2%\n",
      "Accuracy of class 5: 95.39999999999999%\n",
      "Accuracy of class 6: 72.3%\n",
      "Accuracy of class 7: 92.7%\n",
      "Accuracy of class 8: 97.5%\n",
      "Accuracy of class 9: 97.2%\n",
      "\n",
      "Overall accuracy: 89.61%\n"
     ]
    }
   ],
   "source": [
    "class_wise_accuracies = np.zeros((len(classes)))\n",
    "for i in range(len(classes)):\n",
    "    class_wise_accuracies[i] = my_confusion_matrix[i][i]/np.sum(my_confusion_matrix[i])\n",
    "    print('Accuracy of class {}: {}%'.format(i, class_wise_accuracies[i]*100))\n",
    "\n",
    "print('\\nOverall accuracy: {}%'.format(100*np.trace(my_confusion_matrix)/np.sum(my_confusion_matrix, axis=None)))"
   ]
  }
 ],
 "metadata": {
  "kernelspec": {
   "display_name": "Python 3 (ipykernel)",
   "language": "python",
   "name": "python3"
  },
  "language_info": {
   "codemirror_mode": {
    "name": "ipython",
    "version": 3
   },
   "file_extension": ".py",
   "mimetype": "text/x-python",
   "name": "python",
   "nbconvert_exporter": "python",
   "pygments_lexer": "ipython3",
   "version": "3.7.4"
  }
 },
 "nbformat": 4,
 "nbformat_minor": 5
}
