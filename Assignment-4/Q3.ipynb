{
 "cells": [
  {
   "cell_type": "markdown",
   "id": "65820d3e",
   "metadata": {},
   "source": [
    "# Import Statements"
   ]
  },
  {
   "cell_type": "code",
   "execution_count": 1,
   "id": "e4f000b0",
   "metadata": {},
   "outputs": [],
   "source": [
    "import numpy as np\n",
    "import pandas as pd\n",
    "import pickle\n",
    "import gzip\n",
    "from matplotlib import pyplot as plt\n",
    "from tqdm import tqdm"
   ]
  },
  {
   "cell_type": "markdown",
   "id": "b59cfbba",
   "metadata": {},
   "source": [
    "# Read Files"
   ]
  },
  {
   "cell_type": "code",
   "execution_count": 2,
   "id": "1d16a3fa",
   "metadata": {},
   "outputs": [],
   "source": [
    "def images_file_read(file_name):\n",
    "    with gzip.open(file_name, 'r') as f:\n",
    "        # first 4 bytes is a magic number\n",
    "        magic_number = int.from_bytes(f.read(4), 'big')\n",
    "        # second 4 bytes is the number of images\n",
    "        image_count = int.from_bytes(f.read(4), 'big')\n",
    "        # third 4 bytes is the row count\n",
    "        row_count = int.from_bytes(f.read(4), 'big')\n",
    "        # fourth 4 bytes is the column count\n",
    "        column_count = int.from_bytes(f.read(4), 'big')\n",
    "        # rest is the image pixel data, each pixel is stored as an unsigned byte\n",
    "        # pixel values are 0 to 255\n",
    "        image_data = f.read()\n",
    "        images = np.frombuffer(image_data, dtype=np.uint8).reshape((image_count, row_count, column_count))\n",
    "        return images"
   ]
  },
  {
   "cell_type": "code",
   "execution_count": 3,
   "id": "66c991d9",
   "metadata": {},
   "outputs": [],
   "source": [
    "def labels_file_read(file_name):\n",
    "    with gzip.open(file_name, 'r') as f:\n",
    "        # first 4 bytes is a magic number\n",
    "        magic_number = int.from_bytes(f.read(4), 'big')\n",
    "        # second 4 bytes is the number of labels\n",
    "        label_count = int.from_bytes(f.read(4), 'big')\n",
    "        # rest is the label data, each label is stored as unsigned byte\n",
    "        # label values are 0 to 9\n",
    "        label_data = f.read()\n",
    "        labels = np.frombuffer(label_data, dtype=np.uint8)\n",
    "        return labels"
   ]
  },
  {
   "cell_type": "code",
   "execution_count": 4,
   "id": "4dd4ae11",
   "metadata": {},
   "outputs": [
    {
     "name": "stdout",
     "output_type": "stream",
     "text": [
      "(60000, 28, 28)\n"
     ]
    }
   ],
   "source": [
    "train_x = images_file_read('Dataset/mnist/train-images-idx3-ubyte.gz')\n",
    "print(train_x.shape)"
   ]
  },
  {
   "cell_type": "code",
   "execution_count": 5,
   "id": "29fc19bc",
   "metadata": {},
   "outputs": [],
   "source": [
    "# train_x = np.reshape(train_x, (60000,784))\n",
    "# print(train_x.shape)"
   ]
  },
  {
   "cell_type": "code",
   "execution_count": 6,
   "id": "a5daf4cf",
   "metadata": {},
   "outputs": [
    {
     "name": "stdout",
     "output_type": "stream",
     "text": [
      "(60000,)\n"
     ]
    }
   ],
   "source": [
    "train_y = labels_file_read('Dataset/mnist/train-labels-idx1-ubyte.gz')\n",
    "print(train_y.shape)"
   ]
  },
  {
   "cell_type": "code",
   "execution_count": 7,
   "id": "cb2fd1b6",
   "metadata": {},
   "outputs": [
    {
     "name": "stdout",
     "output_type": "stream",
     "text": [
      "(10000, 28, 28)\n"
     ]
    }
   ],
   "source": [
    "test_x = images_file_read('Dataset/mnist/t10k-images-idx3-ubyte.gz')\n",
    "print(test_x.shape)"
   ]
  },
  {
   "cell_type": "code",
   "execution_count": 8,
   "id": "5b243884",
   "metadata": {},
   "outputs": [],
   "source": [
    "# test_x = np.reshape(test_x, (10000,784))\n",
    "# print(test_x.shape)"
   ]
  },
  {
   "cell_type": "code",
   "execution_count": 9,
   "id": "2d3e27ef",
   "metadata": {},
   "outputs": [
    {
     "name": "stdout",
     "output_type": "stream",
     "text": [
      "(10000,)\n"
     ]
    }
   ],
   "source": [
    "test_y = labels_file_read('Dataset/mnist/t10k-labels-idx1-ubyte.gz')\n",
    "print(test_y.shape)"
   ]
  },
  {
   "cell_type": "markdown",
   "id": "db775caf",
   "metadata": {},
   "source": [
    "# Preprocessing"
   ]
  },
  {
   "cell_type": "code",
   "execution_count": 10,
   "id": "c9cdedd1",
   "metadata": {},
   "outputs": [],
   "source": [
    "from tensorflow.keras.models import Model, Sequential\n",
    "from tensorflow.keras.layers import Dense, Activation, Input, Flatten, ReLU, Reshape, Softmax\n",
    "from tensorflow.keras.utils import to_categorical\n",
    "from tensorflow.keras.optimizers import SGD, Adam\n",
    "from tensorflow.keras.initializers import RandomNormal\n",
    "from keras.models import load_model"
   ]
  },
  {
   "cell_type": "code",
   "execution_count": 11,
   "id": "d4d201db",
   "metadata": {},
   "outputs": [
    {
     "name": "stdout",
     "output_type": "stream",
     "text": [
      "(60000, 28, 28) (60000, 10)\n",
      "(10000, 28, 28) (10000, 10)\n"
     ]
    }
   ],
   "source": [
    "# Preprocessing\n",
    "train_x = (train_x.astype('float32')/255)\n",
    "test_x = (test_x.astype('float32')/255)\n",
    "\n",
    "train_y = to_categorical(train_y)\n",
    "numerical_test_y = test_y\n",
    "test_y = to_categorical(test_y)\n",
    "\n",
    "print(train_x.shape, train_y.shape)\n",
    "print(test_x.shape, test_y.shape)"
   ]
  },
  {
   "cell_type": "markdown",
   "id": "f08ddf21",
   "metadata": {},
   "source": [
    "# Autoencoder"
   ]
  },
  {
   "cell_type": "code",
   "execution_count": 12,
   "id": "d5df3d28",
   "metadata": {},
   "outputs": [],
   "source": [
    "# encoder = Sequential([\n",
    "#     Flatten(input_shape = (28, 28)),\n",
    "#     Dense(512),\n",
    "#     ReLU(),\n",
    "#     Dense(128),\n",
    "#     ReLU(),\n",
    "#     Dense(64),\n",
    "#     ReLU(),\n",
    "# ])\n",
    "\n",
    "# decoder = Sequential([\n",
    "#     Dense(128, input_shape=(64,)),\n",
    "#     ReLU(),\n",
    "#     Dense(512),\n",
    "#     ReLU(),\n",
    "#     Dense(784),\n",
    "#     ReLU(),\n",
    "#     Reshape((28, 28))\n",
    "# ])"
   ]
  },
  {
   "cell_type": "code",
   "execution_count": 13,
   "id": "c76ab7f1",
   "metadata": {},
   "outputs": [],
   "source": [
    "# inp = Input(shape=(28,28))\n",
    "# latent_vector = encoder(inp)\n",
    "# output = decoder(latent_vector)"
   ]
  },
  {
   "cell_type": "code",
   "execution_count": 14,
   "id": "89780632",
   "metadata": {},
   "outputs": [],
   "source": [
    "# model = Model(inputs = inp, outputs = output)\n",
    "# model.compile(\n",
    "#     optimizer=Adam(learning_rate=0.01),\n",
    "#     loss='mean_squared_error'\n",
    "# )"
   ]
  },
  {
   "cell_type": "code",
   "execution_count": 15,
   "id": "dae27937",
   "metadata": {},
   "outputs": [],
   "source": [
    "# EPOCHS = 10\n",
    "# history = model.fit(train_x, train_x, batch_size=100, epochs=EPOCHS)"
   ]
  },
  {
   "cell_type": "code",
   "execution_count": 16,
   "id": "147d6093",
   "metadata": {},
   "outputs": [],
   "source": [
    "# plt.plot([i for i in range(1,EPOCHS+1)], history.history['loss'])\n",
    "# plt.title('Autoencoder Training Loss Graph')\n",
    "# plt.ylabel('loss')\n",
    "# plt.xlabel('epoch')\n",
    "# plt.legend(['train'], loc='upper right')\n",
    "# plt.show()"
   ]
  },
  {
   "cell_type": "markdown",
   "id": "f19c2280",
   "metadata": {},
   "source": [
    "# Autoencoder Training Loss Graph"
   ]
  },
  {
   "cell_type": "code",
   "execution_count": 17,
   "id": "73241544",
   "metadata": {},
   "outputs": [],
   "source": [
    "# Displayed in report"
   ]
  },
  {
   "cell_type": "markdown",
   "id": "194b46aa",
   "metadata": {},
   "source": [
    "# Classifier"
   ]
  },
  {
   "cell_type": "code",
   "execution_count": 18,
   "id": "5f633b58",
   "metadata": {},
   "outputs": [],
   "source": [
    "# #Freezing the layers\n",
    "# for layer in model.layers:\n",
    "#     layer.trainable = False"
   ]
  },
  {
   "cell_type": "code",
   "execution_count": 19,
   "id": "f29ed43d",
   "metadata": {},
   "outputs": [],
   "source": [
    "# classifier = Sequential([\n",
    "#     encoder,\n",
    "#     Dense(32),\n",
    "#     ReLU(), \n",
    "#     Dense(10),\n",
    "#     Softmax(), \n",
    "# ])"
   ]
  },
  {
   "cell_type": "code",
   "execution_count": 20,
   "id": "1ac68363",
   "metadata": {},
   "outputs": [],
   "source": [
    "# classifier.compile(\n",
    "#     optimizer=Adam(learning_rate=0.01),\n",
    "#     loss='categorical_crossentropy',\n",
    "#     metrics=['accuracy'],\n",
    "# )"
   ]
  },
  {
   "cell_type": "code",
   "execution_count": 21,
   "id": "19787508",
   "metadata": {},
   "outputs": [],
   "source": [
    "# history_2 = classifier.fit(\n",
    "#     train_x,\n",
    "#     train_y,\n",
    "#     epochs=20,\n",
    "#     batch_size=32\n",
    "# )"
   ]
  },
  {
   "cell_type": "code",
   "execution_count": 22,
   "id": "7fc60efe",
   "metadata": {},
   "outputs": [],
   "source": [
    "# plt.plot([i for i in range(1,21)], history_2.history['loss'])\n",
    "# plt.title('Classifier Training Loss Graph')\n",
    "# plt.ylabel('loss')\n",
    "# plt.xlabel('epoch')\n",
    "# plt.legend(['train'], loc='upper right')\n",
    "# plt.show()"
   ]
  },
  {
   "cell_type": "markdown",
   "id": "80a34aff",
   "metadata": {},
   "source": [
    "# Classifier Training Loss Graph"
   ]
  },
  {
   "cell_type": "code",
   "execution_count": 23,
   "id": "538f3790",
   "metadata": {},
   "outputs": [],
   "source": [
    "# Displayed in report"
   ]
  },
  {
   "cell_type": "markdown",
   "id": "4ffc2b22",
   "metadata": {},
   "source": [
    "# Saving Classifier"
   ]
  },
  {
   "cell_type": "code",
   "execution_count": 24,
   "id": "b35ac8f2",
   "metadata": {},
   "outputs": [],
   "source": [
    "# classifier.save('Q3_classifier.h5')"
   ]
  },
  {
   "cell_type": "markdown",
   "id": "d1f235e3",
   "metadata": {},
   "source": [
    "# Loading Classifier"
   ]
  },
  {
   "cell_type": "code",
   "execution_count": 25,
   "id": "f7641d31",
   "metadata": {},
   "outputs": [],
   "source": [
    "classifier = load_model('Q3_classifier.h5')"
   ]
  },
  {
   "cell_type": "markdown",
   "id": "5d588287",
   "metadata": {},
   "source": [
    "# Testing"
   ]
  },
  {
   "cell_type": "code",
   "execution_count": 26,
   "id": "473d72c2",
   "metadata": {},
   "outputs": [],
   "source": [
    "true_labels = np.argmax(test_y, axis=1)\n",
    "predictions_raw = classifier.predict(test_x)\n",
    "predictions = np.argmax(predictions_raw, axis=1)"
   ]
  },
  {
   "cell_type": "code",
   "execution_count": 27,
   "id": "d9651311",
   "metadata": {},
   "outputs": [],
   "source": [
    "my_confusion_matrix = np.zeros((10,10), dtype=np.int64)"
   ]
  },
  {
   "cell_type": "code",
   "execution_count": 28,
   "id": "a112eb35",
   "metadata": {},
   "outputs": [],
   "source": [
    "for i in range(true_labels.shape[0]):\n",
    "    my_confusion_matrix[true_labels[i]][predictions[i]] += 1"
   ]
  },
  {
   "cell_type": "code",
   "execution_count": 29,
   "id": "5c36f62f",
   "metadata": {},
   "outputs": [
    {
     "name": "stdout",
     "output_type": "stream",
     "text": [
      "[[ 961    0    2    0    2    2    9    1    2    1]\n",
      " [   0 1122    3    1    1    1    1    1    3    2]\n",
      " [  11    1  985    5    2    2    8    8    8    2]\n",
      " [   5   12   32  919    0   18    2    7   12    3]\n",
      " [   1    4    0    0  936    0   13    3    1   24]\n",
      " [  27    2    5   21    9  786    8    2   24    8]\n",
      " [   9    5    4    0    8   10  916    2    4    0]\n",
      " [   3    4   12    2    5    0    0  980    1   21]\n",
      " [   6    2   11   25    7   14    4    7  885   13]\n",
      " [   7    3    1    5   24    4    1   23    8  933]]\n"
     ]
    }
   ],
   "source": [
    "print(my_confusion_matrix)"
   ]
  },
  {
   "cell_type": "code",
   "execution_count": 30,
   "id": "71cccaa8",
   "metadata": {},
   "outputs": [
    {
     "name": "stdout",
     "output_type": "stream",
     "text": [
      "Accuracy of class 0: 98.06122448979592%\n",
      "Accuracy of class 1: 98.85462555066078%\n",
      "Accuracy of class 2: 95.44573643410853%\n",
      "Accuracy of class 3: 90.99009900990099%\n",
      "Accuracy of class 4: 95.31568228105907%\n",
      "Accuracy of class 5: 88.11659192825113%\n",
      "Accuracy of class 6: 95.61586638830897%\n",
      "Accuracy of class 7: 95.3307392996109%\n",
      "Accuracy of class 8: 90.86242299794661%\n",
      "Accuracy of class 9: 92.46778989098117%\n",
      "\n",
      "Overall accuracy: 94.23%\n"
     ]
    }
   ],
   "source": [
    "class_wise_accuracies = np.zeros(10)\n",
    "for i in range(10):\n",
    "    class_wise_accuracies[i] = my_confusion_matrix[i][i]/np.sum(my_confusion_matrix[i])\n",
    "    print('Accuracy of class {}: {}%'.format(i, class_wise_accuracies[i]*100))\n",
    "\n",
    "print('\\nOverall accuracy: {}%'.format(100*np.trace(my_confusion_matrix)/np.sum(my_confusion_matrix, axis=None)))"
   ]
  }
 ],
 "metadata": {
  "kernelspec": {
   "display_name": "Python 3 (ipykernel)",
   "language": "python",
   "name": "python3"
  },
  "language_info": {
   "codemirror_mode": {
    "name": "ipython",
    "version": 3
   },
   "file_extension": ".py",
   "mimetype": "text/x-python",
   "name": "python",
   "nbconvert_exporter": "python",
   "pygments_lexer": "ipython3",
   "version": "3.7.4"
  }
 },
 "nbformat": 4,
 "nbformat_minor": 5
}
