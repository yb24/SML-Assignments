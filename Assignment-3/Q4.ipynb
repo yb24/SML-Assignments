{
 "cells": [
  {
   "cell_type": "code",
   "execution_count": 1,
   "id": "1d9c6448",
   "metadata": {},
   "outputs": [],
   "source": [
    "import pandas as pd\n",
    "import numpy as np\n",
    "import pickle\n",
    "import matplotlib.pyplot as plt\n",
    "import gzip\n",
    "from sklearn.decomposition import PCA\n",
    "from sklearn.discriminant_analysis import LinearDiscriminantAnalysis\n",
    "from sklearn.metrics import confusion_matrix"
   ]
  },
  {
   "cell_type": "code",
   "execution_count": 2,
   "id": "949699b7",
   "metadata": {},
   "outputs": [],
   "source": [
    "def images_file_read(file_name):\n",
    "    with gzip.open(file_name, 'r') as f:\n",
    "        # first 4 bytes is a magic number\n",
    "        magic_number = int.from_bytes(f.read(4), 'big')\n",
    "        # second 4 bytes is the number of images\n",
    "        image_count = int.from_bytes(f.read(4), 'big')\n",
    "        # third 4 bytes is the row count\n",
    "        row_count = int.from_bytes(f.read(4), 'big')\n",
    "        # fourth 4 bytes is the column count\n",
    "        column_count = int.from_bytes(f.read(4), 'big')\n",
    "        # rest is the image pixel data, each pixel is stored as an unsigned byte\n",
    "        # pixel values are 0 to 255\n",
    "        image_data = f.read()\n",
    "        images = np.frombuffer(image_data, dtype=np.uint8).reshape((image_count, row_count, column_count))\n",
    "        return images"
   ]
  },
  {
   "cell_type": "code",
   "execution_count": 3,
   "id": "b9cb6861",
   "metadata": {},
   "outputs": [],
   "source": [
    "def labels_file_read(file_name):\n",
    "    with gzip.open(file_name, 'r') as f:\n",
    "        # first 4 bytes is a magic number\n",
    "        magic_number = int.from_bytes(f.read(4), 'big')\n",
    "        # second 4 bytes is the number of labels\n",
    "        label_count = int.from_bytes(f.read(4), 'big')\n",
    "        # rest is the label data, each label is stored as unsigned byte\n",
    "        # label values are 0 to 9\n",
    "        label_data = f.read()\n",
    "        labels = np.frombuffer(label_data, dtype=np.uint8)\n",
    "        return labels"
   ]
  },
  {
   "cell_type": "code",
   "execution_count": 4,
   "id": "fe9c09f6",
   "metadata": {},
   "outputs": [
    {
     "name": "stdout",
     "output_type": "stream",
     "text": [
      "(60000, 28, 28)\n"
     ]
    }
   ],
   "source": [
    "train_x = images_file_read('Dataset/mnist/train-images-idx3-ubyte.gz')\n",
    "print(train_x.shape)"
   ]
  },
  {
   "cell_type": "code",
   "execution_count": 5,
   "id": "6ebec08f",
   "metadata": {},
   "outputs": [
    {
     "name": "stdout",
     "output_type": "stream",
     "text": [
      "(60000, 784)\n"
     ]
    }
   ],
   "source": [
    "train_x = np.reshape(train_x, (60000,784))\n",
    "print(train_x.shape)"
   ]
  },
  {
   "cell_type": "code",
   "execution_count": 6,
   "id": "cfda65f5",
   "metadata": {},
   "outputs": [
    {
     "name": "stdout",
     "output_type": "stream",
     "text": [
      "(60000,)\n"
     ]
    }
   ],
   "source": [
    "train_y = labels_file_read('Dataset/mnist/train-labels-idx1-ubyte.gz')\n",
    "print(train_y.shape)"
   ]
  },
  {
   "cell_type": "code",
   "execution_count": 7,
   "id": "97686d5e",
   "metadata": {},
   "outputs": [
    {
     "name": "stdout",
     "output_type": "stream",
     "text": [
      "(10000, 28, 28)\n"
     ]
    }
   ],
   "source": [
    "test_x = images_file_read('Dataset/mnist/t10k-images-idx3-ubyte.gz')\n",
    "print(test_x.shape)"
   ]
  },
  {
   "cell_type": "code",
   "execution_count": 8,
   "id": "722da046",
   "metadata": {},
   "outputs": [
    {
     "name": "stdout",
     "output_type": "stream",
     "text": [
      "(60000,)\n"
     ]
    }
   ],
   "source": [
    "test_x = np.reshape(test_x, (10000,784))\n",
    "print(train_y.shape)"
   ]
  },
  {
   "cell_type": "code",
   "execution_count": 9,
   "id": "90e3532b",
   "metadata": {},
   "outputs": [
    {
     "name": "stdout",
     "output_type": "stream",
     "text": [
      "(10000,)\n"
     ]
    }
   ],
   "source": [
    "test_y = labels_file_read('Dataset/mnist/t10k-labels-idx1-ubyte.gz')\n",
    "print(test_y.shape)"
   ]
  },
  {
   "cell_type": "code",
   "execution_count": 11,
   "id": "3178ac97",
   "metadata": {},
   "outputs": [],
   "source": [
    "pca = PCA(n_components=15, random_state=0)\n",
    "train_x = pca.fit_transform(train_x)\n",
    "test_x = pca.transform(test_x)"
   ]
  },
  {
   "cell_type": "code",
   "execution_count": 15,
   "id": "bcab87a4",
   "metadata": {},
   "outputs": [
    {
     "name": "stdout",
     "output_type": "stream",
     "text": [
      "(60000, 15) (60000,)\n",
      "(10000, 15) (10000,)\n"
     ]
    }
   ],
   "source": [
    "print(train_x.shape, train_y.shape)\n",
    "print(test_x.shape, test_y.shape)"
   ]
  },
  {
   "cell_type": "code",
   "execution_count": 18,
   "id": "6c1c6e24",
   "metadata": {},
   "outputs": [],
   "source": [
    "classes = [0,1,2,3,4,5,6,7,8,9]"
   ]
  },
  {
   "cell_type": "code",
   "execution_count": 21,
   "id": "78582de3",
   "metadata": {},
   "outputs": [],
   "source": [
    "class_wise_data = {}\n",
    "for c in range(len(classes)):\n",
    "    class_wise_data[c] = []"
   ]
  },
  {
   "cell_type": "code",
   "execution_count": 22,
   "id": "4e737b20",
   "metadata": {},
   "outputs": [
    {
     "name": "stdout",
     "output_type": "stream",
     "text": [
      "[[   0 5923]\n",
      " [   1 6742]\n",
      " [   2 5958]\n",
      " [   3 6131]\n",
      " [   4 5842]\n",
      " [   5 5421]\n",
      " [   6 5918]\n",
      " [   7 6265]\n",
      " [   8 5851]\n",
      " [   9 5949]]\n"
     ]
    }
   ],
   "source": [
    "unique, counts = np.unique(train_y, return_counts=True)\n",
    "print(np.asarray((unique, counts)).T)"
   ]
  },
  {
   "cell_type": "code",
   "execution_count": 26,
   "id": "f95c0265",
   "metadata": {},
   "outputs": [],
   "source": [
    "for itr in range(train_y.shape[0]):\n",
    "    class_wise_data[train_y[itr]].append(train_x[itr])"
   ]
  },
  {
   "cell_type": "code",
   "execution_count": 32,
   "id": "0afbaea3",
   "metadata": {},
   "outputs": [],
   "source": [
    "for c in range(len(classes)):\n",
    "    class_wise_data[c] = np.asarray(class_wise_data[c])"
   ]
  },
  {
   "cell_type": "code",
   "execution_count": 36,
   "id": "adcf87f5",
   "metadata": {},
   "outputs": [],
   "source": [
    "class_wise_mean = {}\n",
    "for c in range(len(classes)):\n",
    "    class_wise_mean[c] = np.mean(class_wise_data[c], axis=0)"
   ]
  },
  {
   "cell_type": "code",
   "execution_count": 37,
   "id": "eb4d2c59",
   "metadata": {},
   "outputs": [],
   "source": [
    "overall_mean = np.mean(train_x, axis=0)"
   ]
  },
  {
   "cell_type": "code",
   "execution_count": 38,
   "id": "e2b53175",
   "metadata": {},
   "outputs": [
    {
     "data": {
      "text/plain": [
       "(15,)"
      ]
     },
     "execution_count": 38,
     "metadata": {},
     "output_type": "execute_result"
    }
   ],
   "source": [
    "overall_mean.shape"
   ]
  },
  {
   "cell_type": "code",
   "execution_count": 39,
   "id": "af30b740",
   "metadata": {},
   "outputs": [
    {
     "data": {
      "text/plain": [
       "(15,)"
      ]
     },
     "execution_count": 39,
     "metadata": {},
     "output_type": "execute_result"
    }
   ],
   "source": [
    "class_wise_mean[0].shape"
   ]
  },
  {
   "cell_type": "code",
   "execution_count": 40,
   "id": "64ba8540",
   "metadata": {},
   "outputs": [
    {
     "data": {
      "text/plain": [
       "(5923, 15)"
      ]
     },
     "execution_count": 40,
     "metadata": {},
     "output_type": "execute_result"
    }
   ],
   "source": [
    "class_wise_data[0].shape"
   ]
  },
  {
   "cell_type": "code",
   "execution_count": 42,
   "id": "35b6c12a",
   "metadata": {},
   "outputs": [],
   "source": [
    "Sk_list = []\n",
    "for class_c, mean_c in class_wise_mean.items():\n",
    "    sub = np.subtract(class_wise_data[class_c], mean_c)\n",
    "    Sk_list.append(np.dot(np.transpose(sub), sub))"
   ]
  },
  {
   "cell_type": "code",
   "execution_count": 43,
   "id": "f942ba62",
   "metadata": {},
   "outputs": [],
   "source": [
    "Sk_array = np.asarray(Sk_list)"
   ]
  },
  {
   "cell_type": "code",
   "execution_count": 44,
   "id": "50e18f4f",
   "metadata": {},
   "outputs": [
    {
     "data": {
      "text/plain": [
       "(10, 15, 15)"
      ]
     },
     "execution_count": 44,
     "metadata": {},
     "output_type": "execute_result"
    }
   ],
   "source": [
    "Sk_array.shape"
   ]
  },
  {
   "cell_type": "code",
   "execution_count": 45,
   "id": "85cf0a9b",
   "metadata": {},
   "outputs": [],
   "source": [
    "Sw = np.sum(Sk_array, axis=0)"
   ]
  },
  {
   "cell_type": "code",
   "execution_count": 46,
   "id": "3428111c",
   "metadata": {},
   "outputs": [
    {
     "data": {
      "text/plain": [
       "(15, 15)"
      ]
     },
     "execution_count": 46,
     "metadata": {},
     "output_type": "execute_result"
    }
   ],
   "source": [
    "Sw.shape"
   ]
  },
  {
   "cell_type": "code",
   "execution_count": 47,
   "id": "cbdfcfc1",
   "metadata": {},
   "outputs": [],
   "source": [
    "Nk = {}\n",
    "for class_c in range(len(classes)):\n",
    "    Nk[class_c] = class_wise_data[class_c].shape[0]"
   ]
  },
  {
   "cell_type": "code",
   "execution_count": 48,
   "id": "e8fa64e0",
   "metadata": {},
   "outputs": [],
   "source": [
    "Sb = []\n",
    "for class_c, mean_c in class_wise_mean.items():\n",
    "    sub2 = mean_c - overall_mean\n",
    "    Sb.append(np.multiply(Nk[class_c], np.outer(sub2, sub2.T)))\n",
    "Sb = np.sum(Sb, axis=0)"
   ]
  },
  {
   "cell_type": "code",
   "execution_count": 49,
   "id": "d3690ccc",
   "metadata": {},
   "outputs": [
    {
     "data": {
      "text/plain": [
       "(15, 15)"
      ]
     },
     "execution_count": 49,
     "metadata": {},
     "output_type": "execute_result"
    }
   ],
   "source": [
    "Sb.shape"
   ]
  },
  {
   "cell_type": "code",
   "execution_count": 50,
   "id": "32c9a093",
   "metadata": {},
   "outputs": [],
   "source": [
    "u,s,v = np.linalg.svd(Sw, full_matrices=True)\n",
    "Swinv = np.dot(v.transpose(),np.dot(np.diag(s**-1),u.transpose()))\n",
    "mat = np.dot(Swinv,Sb)\n",
    "eigen_values, eigen_vectors = np.linalg.eigh(mat)\n",
    "eiglist = [(eigen_values[i], eigen_vectors[:, i]) for i in range(len(eigen_values))]\n",
    "eiglist = sorted(eiglist, key=lambda x: x[0], reverse=True)\n",
    "W = np.array([eiglist[i][1] for i in range(len(classes)-1)])\n",
    "W = np.asarray(W).T"
   ]
  },
  {
   "cell_type": "code",
   "execution_count": 51,
   "id": "d4551bd3",
   "metadata": {},
   "outputs": [],
   "source": [
    "train_x_projected = np.dot(train_x, W)\n",
    "test_x_projected = np.dot(test_x, W)"
   ]
  },
  {
   "cell_type": "code",
   "execution_count": 52,
   "id": "8f73d098",
   "metadata": {},
   "outputs": [
    {
     "data": {
      "text/plain": [
       "LinearDiscriminantAnalysis()"
      ]
     },
     "execution_count": 52,
     "metadata": {},
     "output_type": "execute_result"
    }
   ],
   "source": [
    "lda = LinearDiscriminantAnalysis()\n",
    "lda.fit(train_x_projected,train_y)"
   ]
  },
  {
   "cell_type": "code",
   "execution_count": 53,
   "id": "e7f0ba5a",
   "metadata": {},
   "outputs": [],
   "source": [
    "pred = lda.predict(test_x_projected)"
   ]
  },
  {
   "cell_type": "code",
   "execution_count": 54,
   "id": "695dc517",
   "metadata": {},
   "outputs": [
    {
     "name": "stdout",
     "output_type": "stream",
     "text": [
      "Overall accuracy :  79.61 %\n"
     ]
    }
   ],
   "source": [
    "print('Overall accuracy : ',lda.score(test_x_projected,test_y)*100, '%')"
   ]
  },
  {
   "cell_type": "code",
   "execution_count": 55,
   "id": "20b756e6",
   "metadata": {},
   "outputs": [],
   "source": [
    "c_matrix = confusion_matrix(test_y, pred)\n",
    "class_wise_accuracy = 100*c_matrix.diagonal()/c_matrix.sum(axis=1)"
   ]
  },
  {
   "cell_type": "code",
   "execution_count": 56,
   "id": "f5f603d5",
   "metadata": {},
   "outputs": [
    {
     "name": "stdout",
     "output_type": "stream",
     "text": [
      "Class wise accuracy of class  0  :  89.38775510204081 %\n",
      "Class wise accuracy of class  1  :  93.12775330396475 %\n",
      "Class wise accuracy of class  2  :  75.09689922480621 %\n",
      "Class wise accuracy of class  3  :  80.0990099009901 %\n",
      "Class wise accuracy of class  4  :  83.09572301425662 %\n",
      "Class wise accuracy of class  5  :  58.63228699551569 %\n",
      "Class wise accuracy of class  6  :  82.04592901878914 %\n",
      "Class wise accuracy of class  7  :  83.36575875486382 %\n",
      "Class wise accuracy of class  8  :  71.14989733059548 %\n",
      "Class wise accuracy of class  9  :  76.21407333994054 %\n"
     ]
    }
   ],
   "source": [
    "for y in range(len(class_wise_accuracy)):\n",
    "    print('Class wise accuracy of class ',y,' : ',class_wise_accuracy[y], '%')"
   ]
  }
 ],
 "metadata": {
  "kernelspec": {
   "display_name": "Python 3 (ipykernel)",
   "language": "python",
   "name": "python3"
  },
  "language_info": {
   "codemirror_mode": {
    "name": "ipython",
    "version": 3
   },
   "file_extension": ".py",
   "mimetype": "text/x-python",
   "name": "python",
   "nbconvert_exporter": "python",
   "pygments_lexer": "ipython3",
   "version": "3.7.4"
  }
 },
 "nbformat": 4,
 "nbformat_minor": 5
}
