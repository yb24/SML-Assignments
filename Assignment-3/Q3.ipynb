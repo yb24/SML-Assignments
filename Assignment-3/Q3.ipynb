{
 "cells": [
  {
   "cell_type": "code",
   "execution_count": 1,
   "id": "767ad91f",
   "metadata": {},
   "outputs": [],
   "source": [
    "import pandas as pd\n",
    "import numpy as np\n",
    "import pickle\n",
    "import matplotlib.pyplot as plt\n",
    "from sklearn.discriminant_analysis import LinearDiscriminantAnalysis\n",
    "from sklearn.metrics import confusion_matrix"
   ]
  },
  {
   "cell_type": "code",
   "execution_count": 2,
   "id": "6f2407cf",
   "metadata": {},
   "outputs": [],
   "source": [
    "df_train = pd.read_csv('Dataset/fmnist/fashion-mnist_train.csv')\n",
    "df_test = pd.read_csv('Dataset/fmnist/fashion-mnist_test.csv')\n",
    "classes = {0:\"T-shirt/top\",\n",
    "1 :\"Trouser\",\n",
    "2 :\"Pullover\",\n",
    "3 :\"Dress\",\n",
    "4 :\"Coat\",\n",
    "5 :\"Sandal\",\n",
    "6 :\"Shirt\",\n",
    "7 :\"Sneaker\",\n",
    "8 :\"Bag\",\n",
    "9 :\"Ankle boot\"}"
   ]
  },
  {
   "cell_type": "code",
   "execution_count": 3,
   "id": "7ce65791",
   "metadata": {},
   "outputs": [
    {
     "data": {
      "text/plain": [
       "10"
      ]
     },
     "execution_count": 3,
     "metadata": {},
     "output_type": "execute_result"
    }
   ],
   "source": [
    "len(classes)"
   ]
  },
  {
   "cell_type": "code",
   "execution_count": 4,
   "id": "de1d71e2",
   "metadata": {},
   "outputs": [],
   "source": [
    "train_x = np.array(df_train.iloc[:,1:]).reshape(df_train.shape[0],784)\n",
    "train_y = np.array(df_train.iloc[:,0])\n",
    "test_x = np.array(df_test.iloc[:,1:]).reshape(df_test.shape[0],784)\n",
    "test_y = np.array(df_test.iloc[:,0])"
   ]
  },
  {
   "cell_type": "code",
   "execution_count": 5,
   "id": "393af459",
   "metadata": {},
   "outputs": [],
   "source": [
    "class_wise_data = {}\n",
    "for c in range(len(classes)):\n",
    "    class_c_df = df_train.loc[df_train['label'] == c]\n",
    "    class_wise_data[c] = np.array(class_c_df.iloc[:,1:]).reshape(class_c_df.shape[0],784)"
   ]
  },
  {
   "cell_type": "code",
   "execution_count": 6,
   "id": "4755e378",
   "metadata": {},
   "outputs": [
    {
     "data": {
      "text/plain": [
       "(6000, 784)"
      ]
     },
     "execution_count": 6,
     "metadata": {},
     "output_type": "execute_result"
    }
   ],
   "source": [
    "class_wise_data[0].shape"
   ]
  },
  {
   "cell_type": "code",
   "execution_count": 7,
   "id": "75381354",
   "metadata": {},
   "outputs": [],
   "source": [
    "class_wise_mean = {}\n",
    "for c in range(len(classes)):\n",
    "    class_wise_mean[c] = np.mean(class_wise_data[c], axis=0)"
   ]
  },
  {
   "cell_type": "code",
   "execution_count": 8,
   "id": "2b5b2b93",
   "metadata": {},
   "outputs": [],
   "source": [
    "overall_mean = np.mean(train_x, axis=0)"
   ]
  },
  {
   "cell_type": "code",
   "execution_count": 9,
   "id": "ba2d422f",
   "metadata": {},
   "outputs": [
    {
     "data": {
      "text/plain": [
       "(784,)"
      ]
     },
     "execution_count": 9,
     "metadata": {},
     "output_type": "execute_result"
    }
   ],
   "source": [
    "overall_mean.shape"
   ]
  },
  {
   "cell_type": "code",
   "execution_count": 10,
   "id": "ed666fbd",
   "metadata": {},
   "outputs": [
    {
     "data": {
      "text/plain": [
       "(784,)"
      ]
     },
     "execution_count": 10,
     "metadata": {},
     "output_type": "execute_result"
    }
   ],
   "source": [
    "class_wise_mean[0].shape"
   ]
  },
  {
   "cell_type": "code",
   "execution_count": 11,
   "id": "5bd5cc0d",
   "metadata": {},
   "outputs": [
    {
     "data": {
      "text/plain": [
       "(6000, 784)"
      ]
     },
     "execution_count": 11,
     "metadata": {},
     "output_type": "execute_result"
    }
   ],
   "source": [
    "class_wise_data[0].shape"
   ]
  },
  {
   "cell_type": "code",
   "execution_count": 12,
   "id": "26f70565",
   "metadata": {},
   "outputs": [
    {
     "name": "stdout",
     "output_type": "stream",
     "text": [
      "(60000, 784) (60000,)\n",
      "(10000, 784) (10000,)\n"
     ]
    }
   ],
   "source": [
    "print(train_x.shape,train_y.shape)\n",
    "print(test_x.shape,test_y.shape)"
   ]
  },
  {
   "cell_type": "code",
   "execution_count": 13,
   "id": "35093396",
   "metadata": {},
   "outputs": [
    {
     "data": {
      "text/plain": [
       "label\n",
       "0    6000\n",
       "1    6000\n",
       "2    6000\n",
       "3    6000\n",
       "4    6000\n",
       "5    6000\n",
       "6    6000\n",
       "7    6000\n",
       "8    6000\n",
       "9    6000\n",
       "dtype: int64"
      ]
     },
     "execution_count": 13,
     "metadata": {},
     "output_type": "execute_result"
    }
   ],
   "source": [
    "df_train.value_counts('label')"
   ]
  },
  {
   "cell_type": "code",
   "execution_count": 14,
   "id": "493ec9b7",
   "metadata": {},
   "outputs": [],
   "source": [
    "Sk_list = []\n",
    "for class_c, mean_c in class_wise_mean.items():\n",
    "    sub = np.subtract(class_wise_data[class_c], mean_c)\n",
    "    Sk_list.append(np.dot(np.transpose(sub), sub))"
   ]
  },
  {
   "cell_type": "code",
   "execution_count": 15,
   "id": "89820f5c",
   "metadata": {},
   "outputs": [],
   "source": [
    "Sk_array = np.asarray(Sk_list)"
   ]
  },
  {
   "cell_type": "code",
   "execution_count": 16,
   "id": "d9940021",
   "metadata": {},
   "outputs": [
    {
     "data": {
      "text/plain": [
       "(10, 784, 784)"
      ]
     },
     "execution_count": 16,
     "metadata": {},
     "output_type": "execute_result"
    }
   ],
   "source": [
    "Sk_array.shape"
   ]
  },
  {
   "cell_type": "code",
   "execution_count": 17,
   "id": "ffe00e0e",
   "metadata": {},
   "outputs": [],
   "source": [
    "Sw = np.sum(Sk_array, axis=0)"
   ]
  },
  {
   "cell_type": "code",
   "execution_count": 18,
   "id": "83252e39",
   "metadata": {},
   "outputs": [
    {
     "data": {
      "text/plain": [
       "(784, 784)"
      ]
     },
     "execution_count": 18,
     "metadata": {},
     "output_type": "execute_result"
    }
   ],
   "source": [
    "Sw.shape"
   ]
  },
  {
   "cell_type": "code",
   "execution_count": 19,
   "id": "e9ea27dd",
   "metadata": {},
   "outputs": [],
   "source": [
    "Nk = {}\n",
    "for class_c in range(len(classes)):\n",
    "    Nk[class_c] = class_wise_data[class_c].shape[0]"
   ]
  },
  {
   "cell_type": "code",
   "execution_count": 20,
   "id": "d65c2967",
   "metadata": {},
   "outputs": [],
   "source": [
    "Sb = []\n",
    "for class_c, mean_c in class_wise_mean.items():\n",
    "    sub2 = mean_c - overall_mean\n",
    "    Sb.append(np.multiply(Nk[class_c], np.outer(sub2, sub2.T)))\n",
    "Sb = np.sum(Sb, axis=0)"
   ]
  },
  {
   "cell_type": "code",
   "execution_count": 21,
   "id": "5a6fefa6",
   "metadata": {},
   "outputs": [
    {
     "data": {
      "text/plain": [
       "(784, 784)"
      ]
     },
     "execution_count": 21,
     "metadata": {},
     "output_type": "execute_result"
    }
   ],
   "source": [
    "Sb.shape"
   ]
  },
  {
   "cell_type": "code",
   "execution_count": 22,
   "id": "614f4f5d",
   "metadata": {},
   "outputs": [],
   "source": [
    "u,s,v = np.linalg.svd(Sw, full_matrices=True)\n",
    "Swinv = np.dot(v.transpose(),np.dot(np.diag(s**-1),u.transpose()))\n",
    "mat = np.dot(Swinv,Sb)\n",
    "eigen_values, eigen_vectors = np.linalg.eigh(mat)\n",
    "eiglist = [(eigen_values[i], eigen_vectors[:, i]) for i in range(len(eigen_values))]\n",
    "eiglist = sorted(eiglist, key=lambda x: x[0], reverse=True)\n",
    "W = np.array([eiglist[i][1] for i in range(len(classes)-1)])\n",
    "W = np.asarray(W).T"
   ]
  },
  {
   "cell_type": "code",
   "execution_count": 23,
   "id": "9cb3121b",
   "metadata": {},
   "outputs": [],
   "source": [
    "train_x_projected = np.dot(train_x, W)\n",
    "test_x_projected = np.dot(test_x, W)"
   ]
  },
  {
   "cell_type": "code",
   "execution_count": 24,
   "id": "28c5de4f",
   "metadata": {},
   "outputs": [
    {
     "data": {
      "text/plain": [
       "LinearDiscriminantAnalysis()"
      ]
     },
     "execution_count": 24,
     "metadata": {},
     "output_type": "execute_result"
    }
   ],
   "source": [
    "lda = LinearDiscriminantAnalysis()\n",
    "lda.fit(train_x_projected,train_y)"
   ]
  },
  {
   "cell_type": "code",
   "execution_count": 26,
   "id": "2dfe4c55",
   "metadata": {},
   "outputs": [],
   "source": [
    "pred = lda.predict(test_x_projected)"
   ]
  },
  {
   "cell_type": "code",
   "execution_count": 28,
   "id": "d5ea0a2f",
   "metadata": {},
   "outputs": [
    {
     "name": "stdout",
     "output_type": "stream",
     "text": [
      "Overall accuracy :  72.92999999999999 %\n"
     ]
    }
   ],
   "source": [
    "print('Overall accuracy : ',lda.score(test_x_projected,test_y)*100, '%')"
   ]
  },
  {
   "cell_type": "code",
   "execution_count": 29,
   "id": "39d9d1eb",
   "metadata": {},
   "outputs": [],
   "source": [
    "c_matrix = confusion_matrix(test_y, pred)\n",
    "class_wise_accuracy = 100*c_matrix.diagonal()/c_matrix.sum(axis=1)"
   ]
  },
  {
   "cell_type": "code",
   "execution_count": 30,
   "id": "7e4293a2",
   "metadata": {},
   "outputs": [
    {
     "name": "stdout",
     "output_type": "stream",
     "text": [
      "Class wise accuracy of class  0  :  73.4 %\n",
      "Class wise accuracy of class  1  :  91.3 %\n",
      "Class wise accuracy of class  2  :  58.1 %\n",
      "Class wise accuracy of class  3  :  80.6 %\n",
      "Class wise accuracy of class  4  :  59.6 %\n",
      "Class wise accuracy of class  5  :  77.5 %\n",
      "Class wise accuracy of class  6  :  36.1 %\n",
      "Class wise accuracy of class  7  :  76.1 %\n",
      "Class wise accuracy of class  8  :  86.6 %\n",
      "Class wise accuracy of class  9  :  90.0 %\n"
     ]
    }
   ],
   "source": [
    "for y in range(len(class_wise_accuracy)):\n",
    "    print('Class wise accuracy of class ',y,' : ',class_wise_accuracy[y], '%')"
   ]
  }
 ],
 "metadata": {
  "kernelspec": {
   "display_name": "Python 3 (ipykernel)",
   "language": "python",
   "name": "python3"
  },
  "language_info": {
   "codemirror_mode": {
    "name": "ipython",
    "version": 3
   },
   "file_extension": ".py",
   "mimetype": "text/x-python",
   "name": "python",
   "nbconvert_exporter": "python",
   "pygments_lexer": "ipython3",
   "version": "3.7.4"
  }
 },
 "nbformat": 4,
 "nbformat_minor": 5
}
