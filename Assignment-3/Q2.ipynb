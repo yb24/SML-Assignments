{
 "cells": [
  {
   "cell_type": "code",
   "execution_count": 1,
   "id": "121dc05d",
   "metadata": {},
   "outputs": [],
   "source": [
    "import pandas as pd\n",
    "import numpy as np\n",
    "import pickle\n",
    "import matplotlib.pyplot as plt\n",
    "import gzip\n",
    "from sklearn.decomposition import PCA\n",
    "from sklearn.discriminant_analysis import LinearDiscriminantAnalysis\n",
    "from sklearn.metrics import confusion_matrix"
   ]
  },
  {
   "cell_type": "code",
   "execution_count": 2,
   "id": "19a189af",
   "metadata": {},
   "outputs": [],
   "source": [
    "def images_file_read(file_name):\n",
    "    with gzip.open(file_name, 'r') as f:\n",
    "        # first 4 bytes is a magic number\n",
    "        magic_number = int.from_bytes(f.read(4), 'big')\n",
    "        # second 4 bytes is the number of images\n",
    "        image_count = int.from_bytes(f.read(4), 'big')\n",
    "        # third 4 bytes is the row count\n",
    "        row_count = int.from_bytes(f.read(4), 'big')\n",
    "        # fourth 4 bytes is the column count\n",
    "        column_count = int.from_bytes(f.read(4), 'big')\n",
    "        # rest is the image pixel data, each pixel is stored as an unsigned byte\n",
    "        # pixel values are 0 to 255\n",
    "        image_data = f.read()\n",
    "        images = np.frombuffer(image_data, dtype=np.uint8).reshape((image_count, row_count, column_count))\n",
    "        return images"
   ]
  },
  {
   "cell_type": "code",
   "execution_count": 3,
   "id": "08337265",
   "metadata": {},
   "outputs": [],
   "source": [
    "def labels_file_read(file_name):\n",
    "    with gzip.open(file_name, 'r') as f:\n",
    "        # first 4 bytes is a magic number\n",
    "        magic_number = int.from_bytes(f.read(4), 'big')\n",
    "        # second 4 bytes is the number of labels\n",
    "        label_count = int.from_bytes(f.read(4), 'big')\n",
    "        # rest is the label data, each label is stored as unsigned byte\n",
    "        # label values are 0 to 9\n",
    "        label_data = f.read()\n",
    "        labels = np.frombuffer(label_data, dtype=np.uint8)\n",
    "        return labels"
   ]
  },
  {
   "cell_type": "code",
   "execution_count": 4,
   "id": "7f04ecce",
   "metadata": {},
   "outputs": [
    {
     "name": "stdout",
     "output_type": "stream",
     "text": [
      "(60000, 28, 28)\n"
     ]
    }
   ],
   "source": [
    "train_x = images_file_read('Dataset/mnist/train-images-idx3-ubyte.gz')\n",
    "print(train_x.shape)"
   ]
  },
  {
   "cell_type": "code",
   "execution_count": 13,
   "id": "efa7942b",
   "metadata": {},
   "outputs": [
    {
     "name": "stdout",
     "output_type": "stream",
     "text": [
      "(60000, 784)\n"
     ]
    }
   ],
   "source": [
    "train_x = np.reshape(train_x, (60000,784))\n",
    "print(train_x.shape)"
   ]
  },
  {
   "cell_type": "code",
   "execution_count": 6,
   "id": "7d6ee8bc",
   "metadata": {},
   "outputs": [
    {
     "name": "stdout",
     "output_type": "stream",
     "text": [
      "(60000,)\n"
     ]
    }
   ],
   "source": [
    "train_y = labels_file_read('Dataset/mnist/train-labels-idx1-ubyte.gz')\n",
    "print(train_y.shape)"
   ]
  },
  {
   "cell_type": "code",
   "execution_count": 7,
   "id": "6ddd3f54",
   "metadata": {},
   "outputs": [
    {
     "name": "stdout",
     "output_type": "stream",
     "text": [
      "(10000, 28, 28)\n"
     ]
    }
   ],
   "source": [
    "test_x = images_file_read('Dataset/mnist/t10k-images-idx3-ubyte.gz')\n",
    "print(test_x.shape)"
   ]
  },
  {
   "cell_type": "code",
   "execution_count": 14,
   "id": "e57bd5ba",
   "metadata": {},
   "outputs": [
    {
     "name": "stdout",
     "output_type": "stream",
     "text": [
      "(60000,)\n"
     ]
    }
   ],
   "source": [
    "test_x = np.reshape(test_x, (10000,784))\n",
    "print(train_y.shape)"
   ]
  },
  {
   "cell_type": "code",
   "execution_count": 9,
   "id": "ed3be51a",
   "metadata": {},
   "outputs": [
    {
     "name": "stdout",
     "output_type": "stream",
     "text": [
      "(10000,)\n"
     ]
    }
   ],
   "source": [
    "test_y = labels_file_read('Dataset/mnist/t10k-labels-idx1-ubyte.gz')\n",
    "print(test_y.shape)"
   ]
  },
  {
   "cell_type": "markdown",
   "id": "630f4523",
   "metadata": {},
   "source": [
    "# n_components = 15"
   ]
  },
  {
   "cell_type": "code",
   "execution_count": 16,
   "id": "53385318",
   "metadata": {},
   "outputs": [],
   "source": [
    "pca_15 = PCA(n_components=15, random_state=0)"
   ]
  },
  {
   "cell_type": "code",
   "execution_count": 17,
   "id": "66f6da2c",
   "metadata": {},
   "outputs": [],
   "source": [
    "train_x_15 = pca_15.fit_transform(train_x)"
   ]
  },
  {
   "cell_type": "code",
   "execution_count": 22,
   "id": "b831fddd",
   "metadata": {},
   "outputs": [],
   "source": [
    "test_x_15 = pca_15.transform(test_x)"
   ]
  },
  {
   "cell_type": "code",
   "execution_count": 23,
   "id": "ec90fb24",
   "metadata": {},
   "outputs": [],
   "source": [
    "lda_15 = LinearDiscriminantAnalysis()"
   ]
  },
  {
   "cell_type": "code",
   "execution_count": 25,
   "id": "d88328b0",
   "metadata": {},
   "outputs": [
    {
     "data": {
      "text/plain": [
       "LinearDiscriminantAnalysis()"
      ]
     },
     "execution_count": 25,
     "metadata": {},
     "output_type": "execute_result"
    }
   ],
   "source": [
    "lda_15.fit(train_x_15,train_y)"
   ]
  },
  {
   "cell_type": "code",
   "execution_count": 26,
   "id": "ff31d8a6",
   "metadata": {},
   "outputs": [
    {
     "name": "stdout",
     "output_type": "stream",
     "text": [
      "Accuracy :  80.39 %\n"
     ]
    }
   ],
   "source": [
    "print('Accuracy : ',lda_15.score(test_x_15,test_y)*100, '%')"
   ]
  },
  {
   "cell_type": "markdown",
   "id": "1411bb3c",
   "metadata": {},
   "source": [
    "# n_components = 8"
   ]
  },
  {
   "cell_type": "code",
   "execution_count": 27,
   "id": "e01781a5",
   "metadata": {},
   "outputs": [],
   "source": [
    "pca_8 = PCA(n_components=8, random_state=0)"
   ]
  },
  {
   "cell_type": "code",
   "execution_count": 28,
   "id": "c74a5122",
   "metadata": {},
   "outputs": [],
   "source": [
    "train_x_8 = pca_8.fit_transform(train_x)"
   ]
  },
  {
   "cell_type": "code",
   "execution_count": 29,
   "id": "3260b42b",
   "metadata": {},
   "outputs": [],
   "source": [
    "test_x_8 = pca_8.transform(test_x)"
   ]
  },
  {
   "cell_type": "code",
   "execution_count": 30,
   "id": "fdda3f52",
   "metadata": {},
   "outputs": [],
   "source": [
    "lda_8 = LinearDiscriminantAnalysis()"
   ]
  },
  {
   "cell_type": "code",
   "execution_count": 31,
   "id": "1e8f92b0",
   "metadata": {},
   "outputs": [
    {
     "data": {
      "text/plain": [
       "LinearDiscriminantAnalysis()"
      ]
     },
     "execution_count": 31,
     "metadata": {},
     "output_type": "execute_result"
    }
   ],
   "source": [
    "lda_8.fit(train_x_8,train_y)"
   ]
  },
  {
   "cell_type": "code",
   "execution_count": 32,
   "id": "bf8301bf",
   "metadata": {},
   "outputs": [
    {
     "name": "stdout",
     "output_type": "stream",
     "text": [
      "Accuracy :  76.05 %\n"
     ]
    }
   ],
   "source": [
    "print('Accuracy : ',lda_8.score(test_x_8,test_y)*100, '%')"
   ]
  },
  {
   "cell_type": "markdown",
   "id": "9cb125da",
   "metadata": {},
   "source": [
    "# n_components = 3"
   ]
  },
  {
   "cell_type": "code",
   "execution_count": 33,
   "id": "b6c9af4b",
   "metadata": {},
   "outputs": [],
   "source": [
    "pca_3 = PCA(n_components=3, random_state=0)"
   ]
  },
  {
   "cell_type": "code",
   "execution_count": 34,
   "id": "3fb5bbf4",
   "metadata": {},
   "outputs": [],
   "source": [
    "train_x_3 = pca_3.fit_transform(train_x)"
   ]
  },
  {
   "cell_type": "code",
   "execution_count": 35,
   "id": "8c24d623",
   "metadata": {},
   "outputs": [],
   "source": [
    "test_x_3 = pca_3.transform(test_x)"
   ]
  },
  {
   "cell_type": "code",
   "execution_count": 36,
   "id": "e01140f7",
   "metadata": {},
   "outputs": [],
   "source": [
    "lda_3 = LinearDiscriminantAnalysis()"
   ]
  },
  {
   "cell_type": "code",
   "execution_count": 37,
   "id": "1f97f723",
   "metadata": {},
   "outputs": [
    {
     "data": {
      "text/plain": [
       "LinearDiscriminantAnalysis()"
      ]
     },
     "execution_count": 37,
     "metadata": {},
     "output_type": "execute_result"
    }
   ],
   "source": [
    "lda_3.fit(train_x_3,train_y)"
   ]
  },
  {
   "cell_type": "code",
   "execution_count": 38,
   "id": "0f8bd279",
   "metadata": {},
   "outputs": [
    {
     "name": "stdout",
     "output_type": "stream",
     "text": [
      "Accuracy :  46.6 %\n"
     ]
    }
   ],
   "source": [
    "print('Accuracy : ',lda_3.score(test_x_3,test_y)*100, '%')"
   ]
  },
  {
   "cell_type": "markdown",
   "id": "24f7523c",
   "metadata": {},
   "source": [
    "# Plot"
   ]
  },
  {
   "cell_type": "code",
   "execution_count": 39,
   "id": "a4606771",
   "metadata": {},
   "outputs": [],
   "source": [
    "data = {'n_components=15':80.39, 'n_components=8':76.05, 'n_components=3':46.6}"
   ]
  },
  {
   "cell_type": "code",
   "execution_count": 40,
   "id": "c49fe1d9",
   "metadata": {},
   "outputs": [],
   "source": [
    "x_axis = list(data.keys())\n",
    "y_axis = list(data.values())"
   ]
  },
  {
   "cell_type": "code",
   "execution_count": 41,
   "id": "69be5c8a",
   "metadata": {},
   "outputs": [
    {
     "data": {
      "image/png": "[encoded data removed]",
      "text/plain": [
       "<Figure size 720x360 with 1 Axes>"
      ]
     },
     "metadata": {
      "needs_background": "light"
     },
     "output_type": "display_data"
    }
   ],
   "source": [
    "fig = plt.figure(figsize = (10, 5))\n",
    "plt.bar(x_axis, y_axis, width = 0.4)\n",
    "plt.xlabel('n_components')\n",
    "plt.ylabel('Accuracy')\n",
    "plt.title('Accuracy vs n_components')\n",
    "plt.show()"
   ]
  }
 ],
 "metadata": {
  "kernelspec": {
   "display_name": "Python 3 (ipykernel)",
   "language": "python",
   "name": "python3"
  },
  "language_info": {
   "codemirror_mode": {
    "name": "ipython",
    "version": 3
   },
   "file_extension": ".py",
   "mimetype": "text/x-python",
   "name": "python",
   "nbconvert_exporter": "python",
   "pygments_lexer": "ipython3",
   "version": "3.7.4"
  }
 },
 "nbformat": 4,
 "nbformat_minor": 5
}
