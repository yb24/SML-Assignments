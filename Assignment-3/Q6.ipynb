{
 "cells": [
  {
   "cell_type": "code",
   "execution_count": 1,
   "id": "6340c1eb",
   "metadata": {},
   "outputs": [],
   "source": [
    "import pandas as pd\n",
    "import numpy as np\n",
    "import matplotlib.pyplot as plt\n",
    "from sklearn.model_selection import train_test_split\n",
    "from sklearn.metrics import accuracy_score"
   ]
  },
  {
   "cell_type": "code",
   "execution_count": 2,
   "id": "120c9617",
   "metadata": {},
   "outputs": [],
   "source": [
    "np.random.seed(0)"
   ]
  },
  {
   "cell_type": "code",
   "execution_count": 3,
   "id": "3cad3d95",
   "metadata": {},
   "outputs": [],
   "source": [
    "class1_x = np.random.uniform(-1.0, 0.0, 100)\n",
    "class1_y = np.array([-1 for x in range(100)])"
   ]
  },
  {
   "cell_type": "code",
   "execution_count": 4,
   "id": "c7503291",
   "metadata": {},
   "outputs": [],
   "source": [
    "class2_x = np.random.uniform(0, 1.0, 100)\n",
    "class2_y = np.array([1 for x in range(100)])"
   ]
  },
  {
   "cell_type": "code",
   "execution_count": 5,
   "id": "e16b92e3",
   "metadata": {},
   "outputs": [],
   "source": [
    "X = np.append(class1_x, class2_x)\n",
    "Y = np.append(class1_y, class2_y)"
   ]
  },
  {
   "cell_type": "code",
   "execution_count": 6,
   "id": "609b20a7",
   "metadata": {},
   "outputs": [],
   "source": [
    "df = pd.DataFrame()\n",
    "df['X'] = X\n",
    "df['Y']= Y\n",
    "df = df.sample(frac=1)"
   ]
  },
  {
   "cell_type": "code",
   "execution_count": 7,
   "id": "44788762",
   "metadata": {},
   "outputs": [],
   "source": [
    "X_train, X_test, Y_train, Y_test = train_test_split(X, Y, test_size=0.2, random_state=0)"
   ]
  },
  {
   "cell_type": "code",
   "execution_count": 8,
   "id": "8dc1ab6f",
   "metadata": {},
   "outputs": [],
   "source": [
    "def node_1(x, w0, b0):\n",
    "    z = x*w0+b0\n",
    "    y = (1/(1+np.exp(z)))\n",
    "    return y"
   ]
  },
  {
   "cell_type": "code",
   "execution_count": 9,
   "id": "3ba7a495",
   "metadata": {},
   "outputs": [],
   "source": [
    "def node_2(x, w0, b0, w1, b1):\n",
    "    y0 = node_1(x, w0, b0)\n",
    "    z = y0*w1+b1\n",
    "    if(z>=0):\n",
    "        return 1\n",
    "    else:\n",
    "        return -1"
   ]
  },
  {
   "cell_type": "code",
   "execution_count": 10,
   "id": "8175e8e5",
   "metadata": {},
   "outputs": [],
   "source": [
    "w0 = np.random.rand()\n",
    "b0 = np.random.rand()\n",
    "w1 = np.random.rand()\n",
    "b1 = np.random.rand()\n",
    "\n",
    "alpha = 0.01\n",
    "\n",
    "while(True):\n",
    "  flag = True\n",
    "  for i in range(len(X_train)):\n",
    "    xi = X_train[i]\n",
    "    yi = Y_train[i]\n",
    "    \n",
    "    if(yi == node_2(xi, w0, b0, w1, b1)):\n",
    "      continue\n",
    "    flag = False\n",
    "    y0 = node_1(xi, w0, b0)\n",
    "\n",
    "    w0 = w0 + alpha*yi*xi*w1*y0*(1-y0)\n",
    "    b0 = b0 + alpha*yi*w1*y0*(1-y0)\n",
    "    \n",
    "    w1 = w1 + alpha*yi*y0\n",
    "    b1 = b1 + alpha*yi\n",
    "\n",
    "\n",
    "  if(flag):\n",
    "    break"
   ]
  },
  {
   "cell_type": "code",
   "execution_count": 11,
   "id": "022a23fb",
   "metadata": {},
   "outputs": [
    {
     "name": "stdout",
     "output_type": "stream",
     "text": [
      "1.0\n"
     ]
    }
   ],
   "source": [
    "Y_pred = []\n",
    "for x in X_test:\n",
    "    Y_pred.append(node_2(x, w0, b0, w1, b1))\n",
    "print(accuracy_score(Y_pred, Y_test))"
   ]
  }
 ],
 "metadata": {
  "kernelspec": {
   "display_name": "Python 3 (ipykernel)",
   "language": "python",
   "name": "python3"
  },
  "language_info": {
   "codemirror_mode": {
    "name": "ipython",
    "version": 3
   },
   "file_extension": ".py",
   "mimetype": "text/x-python",
   "name": "python",
   "nbconvert_exporter": "python",
   "pygments_lexer": "ipython3",
   "version": "3.7.4"
  }
 },
 "nbformat": 4,
 "nbformat_minor": 5
}
